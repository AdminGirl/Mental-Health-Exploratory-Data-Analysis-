{
  "cells": [
    {
      "cell_type": "markdown",
      "metadata": {
        "id": "view-in-github",
        "colab_type": "text"
      },
      "source": [
        "<a href=\"https://colab.research.google.com/github/AdminGirl/Mental-Health-Exploratory-Data-Analysis-/blob/main/Mental_Health(Exploratory_Data_Analysis).ipynb\" target=\"_parent\"><img src=\"https://colab.research.google.com/assets/colab-badge.svg\" alt=\"Open In Colab\"/></a>"
      ]
    },
    {
      "cell_type": "code",
      "execution_count": null,
      "metadata": {
        "colab": {
          "base_uri": "https://localhost:8080/"
        },
        "id": "qVbty0Zi5CoL",
        "outputId": "3e187d14-f2e4-479b-9ed0-42b61fef6a21"
      },
      "outputs": [
        {
          "output_type": "stream",
          "name": "stdout",
          "text": [
            "Mounted at /content/gdrive\n"
          ]
        }
      ],
      "source": [
        "#Mount\n",
        "from google.colab import drive\n",
        "drive.mount('/content/gdrive')"
      ]
    },
    {
      "cell_type": "code",
      "execution_count": null,
      "metadata": {
        "id": "hg_XIstvlZfr"
      },
      "outputs": [],
      "source": [
        "#importing libraries\n",
        "import matplotlib.pyplot as plt\n",
        "import matplotlib.mlab as mlab\n",
        "import seaborn as sns\n",
        "import pandas as pd\n",
        "import numpy as np"
      ]
    },
    {
      "cell_type": "code",
      "execution_count": null,
      "metadata": {
        "colab": {
          "base_uri": "https://localhost:8080/",
          "height": 676
        },
        "id": "Gw7EI77bwyDJ",
        "outputId": "beeb92db-0e3d-46c9-a0e8-4badbb3614bf"
      },
      "outputs": [
        {
          "output_type": "execute_result",
          "data": {
            "text/plain": [
              "               Timestamp Choose your gender   Age What is your course?  \\\n",
              "0         8/7/2020 12:02             Female  18.0          Engineering   \n",
              "1         8/7/2020 12:04               Male  21.0    Islamic education   \n",
              "2         8/7/2020 12:05               Male  19.0                  BIT   \n",
              "3         8/7/2020 12:06             Female  22.0                 Laws   \n",
              "4         8/7/2020 12:13               Male  23.0         Mathemathics   \n",
              "..                   ...                ...   ...                  ...   \n",
              "96   13/07/2020 19:56:49             Female  21.0                  BCS   \n",
              "97   13/07/2020 21:21:42               Male  18.0          Engineering   \n",
              "98   13/07/2020 21:22:56             Female  19.0             Nursing    \n",
              "99   13/07/2020 21:23:57             Female  23.0     Pendidikan Islam   \n",
              "100  18/07/2020 20:16:21               Male  20.0   Biomedical science   \n",
              "\n",
              "    Your current year of Study What is your CGPA? Marital status  \\\n",
              "0                       year 1        3.00 - 3.49             No   \n",
              "1                       year 2        3.00 - 3.49             No   \n",
              "2                       Year 1        3.00 - 3.49             No   \n",
              "3                       year 3        3.00 - 3.49            Yes   \n",
              "4                       year 4        3.00 - 3.49             No   \n",
              "..                         ...                ...            ...   \n",
              "96                      year 1        3.50 - 4.00             No   \n",
              "97                      Year 2        3.00 - 3.49             No   \n",
              "98                      Year 3        3.50 - 4.00            Yes   \n",
              "99                      year 4        3.50 - 4.00             No   \n",
              "100                     Year 2        3.00 - 3.49             No   \n",
              "\n",
              "    Do you have Depression? Do you have Anxiety? Do you have Panic attack?  \\\n",
              "0                       Yes                   No                       Yes   \n",
              "1                        No                  Yes                        No   \n",
              "2                       Yes                  Yes                       Yes   \n",
              "3                       Yes                   No                        No   \n",
              "4                        No                   No                        No   \n",
              "..                      ...                  ...                       ...   \n",
              "96                       No                  Yes                        No   \n",
              "97                      Yes                  Yes                        No   \n",
              "98                      Yes                   No                       Yes   \n",
              "99                       No                   No                        No   \n",
              "100                      No                   No                        No   \n",
              "\n",
              "    Did you seek any specialist for a treatment?  \n",
              "0                                             No  \n",
              "1                                             No  \n",
              "2                                             No  \n",
              "3                                             No  \n",
              "4                                             No  \n",
              "..                                           ...  \n",
              "96                                            No  \n",
              "97                                            No  \n",
              "98                                            No  \n",
              "99                                            No  \n",
              "100                                           No  \n",
              "\n",
              "[101 rows x 11 columns]"
            ],
            "text/html": [
              "\n",
              "  <div id=\"df-9b411c1f-e918-40a7-b2dc-061398f35290\">\n",
              "    <div class=\"colab-df-container\">\n",
              "      <div>\n",
              "<style scoped>\n",
              "    .dataframe tbody tr th:only-of-type {\n",
              "        vertical-align: middle;\n",
              "    }\n",
              "\n",
              "    .dataframe tbody tr th {\n",
              "        vertical-align: top;\n",
              "    }\n",
              "\n",
              "    .dataframe thead th {\n",
              "        text-align: right;\n",
              "    }\n",
              "</style>\n",
              "<table border=\"1\" class=\"dataframe\">\n",
              "  <thead>\n",
              "    <tr style=\"text-align: right;\">\n",
              "      <th></th>\n",
              "      <th>Timestamp</th>\n",
              "      <th>Choose your gender</th>\n",
              "      <th>Age</th>\n",
              "      <th>What is your course?</th>\n",
              "      <th>Your current year of Study</th>\n",
              "      <th>What is your CGPA?</th>\n",
              "      <th>Marital status</th>\n",
              "      <th>Do you have Depression?</th>\n",
              "      <th>Do you have Anxiety?</th>\n",
              "      <th>Do you have Panic attack?</th>\n",
              "      <th>Did you seek any specialist for a treatment?</th>\n",
              "    </tr>\n",
              "  </thead>\n",
              "  <tbody>\n",
              "    <tr>\n",
              "      <th>0</th>\n",
              "      <td>8/7/2020 12:02</td>\n",
              "      <td>Female</td>\n",
              "      <td>18.0</td>\n",
              "      <td>Engineering</td>\n",
              "      <td>year 1</td>\n",
              "      <td>3.00 - 3.49</td>\n",
              "      <td>No</td>\n",
              "      <td>Yes</td>\n",
              "      <td>No</td>\n",
              "      <td>Yes</td>\n",
              "      <td>No</td>\n",
              "    </tr>\n",
              "    <tr>\n",
              "      <th>1</th>\n",
              "      <td>8/7/2020 12:04</td>\n",
              "      <td>Male</td>\n",
              "      <td>21.0</td>\n",
              "      <td>Islamic education</td>\n",
              "      <td>year 2</td>\n",
              "      <td>3.00 - 3.49</td>\n",
              "      <td>No</td>\n",
              "      <td>No</td>\n",
              "      <td>Yes</td>\n",
              "      <td>No</td>\n",
              "      <td>No</td>\n",
              "    </tr>\n",
              "    <tr>\n",
              "      <th>2</th>\n",
              "      <td>8/7/2020 12:05</td>\n",
              "      <td>Male</td>\n",
              "      <td>19.0</td>\n",
              "      <td>BIT</td>\n",
              "      <td>Year 1</td>\n",
              "      <td>3.00 - 3.49</td>\n",
              "      <td>No</td>\n",
              "      <td>Yes</td>\n",
              "      <td>Yes</td>\n",
              "      <td>Yes</td>\n",
              "      <td>No</td>\n",
              "    </tr>\n",
              "    <tr>\n",
              "      <th>3</th>\n",
              "      <td>8/7/2020 12:06</td>\n",
              "      <td>Female</td>\n",
              "      <td>22.0</td>\n",
              "      <td>Laws</td>\n",
              "      <td>year 3</td>\n",
              "      <td>3.00 - 3.49</td>\n",
              "      <td>Yes</td>\n",
              "      <td>Yes</td>\n",
              "      <td>No</td>\n",
              "      <td>No</td>\n",
              "      <td>No</td>\n",
              "    </tr>\n",
              "    <tr>\n",
              "      <th>4</th>\n",
              "      <td>8/7/2020 12:13</td>\n",
              "      <td>Male</td>\n",
              "      <td>23.0</td>\n",
              "      <td>Mathemathics</td>\n",
              "      <td>year 4</td>\n",
              "      <td>3.00 - 3.49</td>\n",
              "      <td>No</td>\n",
              "      <td>No</td>\n",
              "      <td>No</td>\n",
              "      <td>No</td>\n",
              "      <td>No</td>\n",
              "    </tr>\n",
              "    <tr>\n",
              "      <th>...</th>\n",
              "      <td>...</td>\n",
              "      <td>...</td>\n",
              "      <td>...</td>\n",
              "      <td>...</td>\n",
              "      <td>...</td>\n",
              "      <td>...</td>\n",
              "      <td>...</td>\n",
              "      <td>...</td>\n",
              "      <td>...</td>\n",
              "      <td>...</td>\n",
              "      <td>...</td>\n",
              "    </tr>\n",
              "    <tr>\n",
              "      <th>96</th>\n",
              "      <td>13/07/2020 19:56:49</td>\n",
              "      <td>Female</td>\n",
              "      <td>21.0</td>\n",
              "      <td>BCS</td>\n",
              "      <td>year 1</td>\n",
              "      <td>3.50 - 4.00</td>\n",
              "      <td>No</td>\n",
              "      <td>No</td>\n",
              "      <td>Yes</td>\n",
              "      <td>No</td>\n",
              "      <td>No</td>\n",
              "    </tr>\n",
              "    <tr>\n",
              "      <th>97</th>\n",
              "      <td>13/07/2020 21:21:42</td>\n",
              "      <td>Male</td>\n",
              "      <td>18.0</td>\n",
              "      <td>Engineering</td>\n",
              "      <td>Year 2</td>\n",
              "      <td>3.00 - 3.49</td>\n",
              "      <td>No</td>\n",
              "      <td>Yes</td>\n",
              "      <td>Yes</td>\n",
              "      <td>No</td>\n",
              "      <td>No</td>\n",
              "    </tr>\n",
              "    <tr>\n",
              "      <th>98</th>\n",
              "      <td>13/07/2020 21:22:56</td>\n",
              "      <td>Female</td>\n",
              "      <td>19.0</td>\n",
              "      <td>Nursing</td>\n",
              "      <td>Year 3</td>\n",
              "      <td>3.50 - 4.00</td>\n",
              "      <td>Yes</td>\n",
              "      <td>Yes</td>\n",
              "      <td>No</td>\n",
              "      <td>Yes</td>\n",
              "      <td>No</td>\n",
              "    </tr>\n",
              "    <tr>\n",
              "      <th>99</th>\n",
              "      <td>13/07/2020 21:23:57</td>\n",
              "      <td>Female</td>\n",
              "      <td>23.0</td>\n",
              "      <td>Pendidikan Islam</td>\n",
              "      <td>year 4</td>\n",
              "      <td>3.50 - 4.00</td>\n",
              "      <td>No</td>\n",
              "      <td>No</td>\n",
              "      <td>No</td>\n",
              "      <td>No</td>\n",
              "      <td>No</td>\n",
              "    </tr>\n",
              "    <tr>\n",
              "      <th>100</th>\n",
              "      <td>18/07/2020 20:16:21</td>\n",
              "      <td>Male</td>\n",
              "      <td>20.0</td>\n",
              "      <td>Biomedical science</td>\n",
              "      <td>Year 2</td>\n",
              "      <td>3.00 - 3.49</td>\n",
              "      <td>No</td>\n",
              "      <td>No</td>\n",
              "      <td>No</td>\n",
              "      <td>No</td>\n",
              "      <td>No</td>\n",
              "    </tr>\n",
              "  </tbody>\n",
              "</table>\n",
              "<p>101 rows × 11 columns</p>\n",
              "</div>\n",
              "      <button class=\"colab-df-convert\" onclick=\"convertToInteractive('df-9b411c1f-e918-40a7-b2dc-061398f35290')\"\n",
              "              title=\"Convert this dataframe to an interactive table.\"\n",
              "              style=\"display:none;\">\n",
              "        \n",
              "  <svg xmlns=\"http://www.w3.org/2000/svg\" height=\"24px\"viewBox=\"0 0 24 24\"\n",
              "       width=\"24px\">\n",
              "    <path d=\"M0 0h24v24H0V0z\" fill=\"none\"/>\n",
              "    <path d=\"M18.56 5.44l.94 2.06.94-2.06 2.06-.94-2.06-.94-.94-2.06-.94 2.06-2.06.94zm-11 1L8.5 8.5l.94-2.06 2.06-.94-2.06-.94L8.5 2.5l-.94 2.06-2.06.94zm10 10l.94 2.06.94-2.06 2.06-.94-2.06-.94-.94-2.06-.94 2.06-2.06.94z\"/><path d=\"M17.41 7.96l-1.37-1.37c-.4-.4-.92-.59-1.43-.59-.52 0-1.04.2-1.43.59L10.3 9.45l-7.72 7.72c-.78.78-.78 2.05 0 2.83L4 21.41c.39.39.9.59 1.41.59.51 0 1.02-.2 1.41-.59l7.78-7.78 2.81-2.81c.8-.78.8-2.07 0-2.86zM5.41 20L4 18.59l7.72-7.72 1.47 1.35L5.41 20z\"/>\n",
              "  </svg>\n",
              "      </button>\n",
              "      \n",
              "  <style>\n",
              "    .colab-df-container {\n",
              "      display:flex;\n",
              "      flex-wrap:wrap;\n",
              "      gap: 12px;\n",
              "    }\n",
              "\n",
              "    .colab-df-convert {\n",
              "      background-color: #E8F0FE;\n",
              "      border: none;\n",
              "      border-radius: 50%;\n",
              "      cursor: pointer;\n",
              "      display: none;\n",
              "      fill: #1967D2;\n",
              "      height: 32px;\n",
              "      padding: 0 0 0 0;\n",
              "      width: 32px;\n",
              "    }\n",
              "\n",
              "    .colab-df-convert:hover {\n",
              "      background-color: #E2EBFA;\n",
              "      box-shadow: 0px 1px 2px rgba(60, 64, 67, 0.3), 0px 1px 3px 1px rgba(60, 64, 67, 0.15);\n",
              "      fill: #174EA6;\n",
              "    }\n",
              "\n",
              "    [theme=dark] .colab-df-convert {\n",
              "      background-color: #3B4455;\n",
              "      fill: #D2E3FC;\n",
              "    }\n",
              "\n",
              "    [theme=dark] .colab-df-convert:hover {\n",
              "      background-color: #434B5C;\n",
              "      box-shadow: 0px 1px 3px 1px rgba(0, 0, 0, 0.15);\n",
              "      filter: drop-shadow(0px 1px 2px rgba(0, 0, 0, 0.3));\n",
              "      fill: #FFFFFF;\n",
              "    }\n",
              "  </style>\n",
              "\n",
              "      <script>\n",
              "        const buttonEl =\n",
              "          document.querySelector('#df-9b411c1f-e918-40a7-b2dc-061398f35290 button.colab-df-convert');\n",
              "        buttonEl.style.display =\n",
              "          google.colab.kernel.accessAllowed ? 'block' : 'none';\n",
              "\n",
              "        async function convertToInteractive(key) {\n",
              "          const element = document.querySelector('#df-9b411c1f-e918-40a7-b2dc-061398f35290');\n",
              "          const dataTable =\n",
              "            await google.colab.kernel.invokeFunction('convertToInteractive',\n",
              "                                                     [key], {});\n",
              "          if (!dataTable) return;\n",
              "\n",
              "          const docLinkHtml = 'Like what you see? Visit the ' +\n",
              "            '<a target=\"_blank\" href=https://colab.research.google.com/notebooks/data_table.ipynb>data table notebook</a>'\n",
              "            + ' to learn more about interactive tables.';\n",
              "          element.innerHTML = '';\n",
              "          dataTable['output_type'] = 'display_data';\n",
              "          await google.colab.output.renderOutput(dataTable, element);\n",
              "          const docLink = document.createElement('div');\n",
              "          docLink.innerHTML = docLinkHtml;\n",
              "          element.appendChild(docLink);\n",
              "        }\n",
              "      </script>\n",
              "    </div>\n",
              "  </div>\n",
              "  "
            ]
          },
          "metadata": {},
          "execution_count": 3
        }
      ],
      "source": [
        "df = pd.read_csv('/content/gdrive/MyDrive/Colab Notebooks/Student Mental health.csv')\n",
        "df"
      ]
    },
    {
      "cell_type": "code",
      "execution_count": null,
      "metadata": {
        "colab": {
          "base_uri": "https://localhost:8080/",
          "height": 206
        },
        "id": "JS7tcdw5V8co",
        "outputId": "f7e34b3b-b854-4cb3-8cd5-7d76f85722c5"
      },
      "outputs": [
        {
          "output_type": "execute_result",
          "data": {
            "text/plain": [
              "        Timestamp  Gender   Age             Course Study Year         CGPA  \\\n",
              "0  8/7/2020 12:02  Female  18.0        Engineering     year 1  3.00 - 3.49   \n",
              "1  8/7/2020 12:04    Male  21.0  Islamic education     year 2  3.00 - 3.49   \n",
              "2  8/7/2020 12:05    Male  19.0                BIT     Year 1  3.00 - 3.49   \n",
              "3  8/7/2020 12:06  Female  22.0               Laws     year 3  3.00 - 3.49   \n",
              "4  8/7/2020 12:13    Male  23.0       Mathemathics     year 4  3.00 - 3.49   \n",
              "\n",
              "  Marital status Depression Anxiety Panic Attack Treatment  \n",
              "0             No        Yes      No          Yes        No  \n",
              "1             No         No     Yes           No        No  \n",
              "2             No        Yes     Yes          Yes        No  \n",
              "3            Yes        Yes      No           No        No  \n",
              "4             No         No      No           No        No  "
            ],
            "text/html": [
              "\n",
              "  <div id=\"df-c4cf1214-55fa-4c46-9b5a-a0349bd8ca88\">\n",
              "    <div class=\"colab-df-container\">\n",
              "      <div>\n",
              "<style scoped>\n",
              "    .dataframe tbody tr th:only-of-type {\n",
              "        vertical-align: middle;\n",
              "    }\n",
              "\n",
              "    .dataframe tbody tr th {\n",
              "        vertical-align: top;\n",
              "    }\n",
              "\n",
              "    .dataframe thead th {\n",
              "        text-align: right;\n",
              "    }\n",
              "</style>\n",
              "<table border=\"1\" class=\"dataframe\">\n",
              "  <thead>\n",
              "    <tr style=\"text-align: right;\">\n",
              "      <th></th>\n",
              "      <th>Timestamp</th>\n",
              "      <th>Gender</th>\n",
              "      <th>Age</th>\n",
              "      <th>Course</th>\n",
              "      <th>Study Year</th>\n",
              "      <th>CGPA</th>\n",
              "      <th>Marital status</th>\n",
              "      <th>Depression</th>\n",
              "      <th>Anxiety</th>\n",
              "      <th>Panic Attack</th>\n",
              "      <th>Treatment</th>\n",
              "    </tr>\n",
              "  </thead>\n",
              "  <tbody>\n",
              "    <tr>\n",
              "      <th>0</th>\n",
              "      <td>8/7/2020 12:02</td>\n",
              "      <td>Female</td>\n",
              "      <td>18.0</td>\n",
              "      <td>Engineering</td>\n",
              "      <td>year 1</td>\n",
              "      <td>3.00 - 3.49</td>\n",
              "      <td>No</td>\n",
              "      <td>Yes</td>\n",
              "      <td>No</td>\n",
              "      <td>Yes</td>\n",
              "      <td>No</td>\n",
              "    </tr>\n",
              "    <tr>\n",
              "      <th>1</th>\n",
              "      <td>8/7/2020 12:04</td>\n",
              "      <td>Male</td>\n",
              "      <td>21.0</td>\n",
              "      <td>Islamic education</td>\n",
              "      <td>year 2</td>\n",
              "      <td>3.00 - 3.49</td>\n",
              "      <td>No</td>\n",
              "      <td>No</td>\n",
              "      <td>Yes</td>\n",
              "      <td>No</td>\n",
              "      <td>No</td>\n",
              "    </tr>\n",
              "    <tr>\n",
              "      <th>2</th>\n",
              "      <td>8/7/2020 12:05</td>\n",
              "      <td>Male</td>\n",
              "      <td>19.0</td>\n",
              "      <td>BIT</td>\n",
              "      <td>Year 1</td>\n",
              "      <td>3.00 - 3.49</td>\n",
              "      <td>No</td>\n",
              "      <td>Yes</td>\n",
              "      <td>Yes</td>\n",
              "      <td>Yes</td>\n",
              "      <td>No</td>\n",
              "    </tr>\n",
              "    <tr>\n",
              "      <th>3</th>\n",
              "      <td>8/7/2020 12:06</td>\n",
              "      <td>Female</td>\n",
              "      <td>22.0</td>\n",
              "      <td>Laws</td>\n",
              "      <td>year 3</td>\n",
              "      <td>3.00 - 3.49</td>\n",
              "      <td>Yes</td>\n",
              "      <td>Yes</td>\n",
              "      <td>No</td>\n",
              "      <td>No</td>\n",
              "      <td>No</td>\n",
              "    </tr>\n",
              "    <tr>\n",
              "      <th>4</th>\n",
              "      <td>8/7/2020 12:13</td>\n",
              "      <td>Male</td>\n",
              "      <td>23.0</td>\n",
              "      <td>Mathemathics</td>\n",
              "      <td>year 4</td>\n",
              "      <td>3.00 - 3.49</td>\n",
              "      <td>No</td>\n",
              "      <td>No</td>\n",
              "      <td>No</td>\n",
              "      <td>No</td>\n",
              "      <td>No</td>\n",
              "    </tr>\n",
              "  </tbody>\n",
              "</table>\n",
              "</div>\n",
              "      <button class=\"colab-df-convert\" onclick=\"convertToInteractive('df-c4cf1214-55fa-4c46-9b5a-a0349bd8ca88')\"\n",
              "              title=\"Convert this dataframe to an interactive table.\"\n",
              "              style=\"display:none;\">\n",
              "        \n",
              "  <svg xmlns=\"http://www.w3.org/2000/svg\" height=\"24px\"viewBox=\"0 0 24 24\"\n",
              "       width=\"24px\">\n",
              "    <path d=\"M0 0h24v24H0V0z\" fill=\"none\"/>\n",
              "    <path d=\"M18.56 5.44l.94 2.06.94-2.06 2.06-.94-2.06-.94-.94-2.06-.94 2.06-2.06.94zm-11 1L8.5 8.5l.94-2.06 2.06-.94-2.06-.94L8.5 2.5l-.94 2.06-2.06.94zm10 10l.94 2.06.94-2.06 2.06-.94-2.06-.94-.94-2.06-.94 2.06-2.06.94z\"/><path d=\"M17.41 7.96l-1.37-1.37c-.4-.4-.92-.59-1.43-.59-.52 0-1.04.2-1.43.59L10.3 9.45l-7.72 7.72c-.78.78-.78 2.05 0 2.83L4 21.41c.39.39.9.59 1.41.59.51 0 1.02-.2 1.41-.59l7.78-7.78 2.81-2.81c.8-.78.8-2.07 0-2.86zM5.41 20L4 18.59l7.72-7.72 1.47 1.35L5.41 20z\"/>\n",
              "  </svg>\n",
              "      </button>\n",
              "      \n",
              "  <style>\n",
              "    .colab-df-container {\n",
              "      display:flex;\n",
              "      flex-wrap:wrap;\n",
              "      gap: 12px;\n",
              "    }\n",
              "\n",
              "    .colab-df-convert {\n",
              "      background-color: #E8F0FE;\n",
              "      border: none;\n",
              "      border-radius: 50%;\n",
              "      cursor: pointer;\n",
              "      display: none;\n",
              "      fill: #1967D2;\n",
              "      height: 32px;\n",
              "      padding: 0 0 0 0;\n",
              "      width: 32px;\n",
              "    }\n",
              "\n",
              "    .colab-df-convert:hover {\n",
              "      background-color: #E2EBFA;\n",
              "      box-shadow: 0px 1px 2px rgba(60, 64, 67, 0.3), 0px 1px 3px 1px rgba(60, 64, 67, 0.15);\n",
              "      fill: #174EA6;\n",
              "    }\n",
              "\n",
              "    [theme=dark] .colab-df-convert {\n",
              "      background-color: #3B4455;\n",
              "      fill: #D2E3FC;\n",
              "    }\n",
              "\n",
              "    [theme=dark] .colab-df-convert:hover {\n",
              "      background-color: #434B5C;\n",
              "      box-shadow: 0px 1px 3px 1px rgba(0, 0, 0, 0.15);\n",
              "      filter: drop-shadow(0px 1px 2px rgba(0, 0, 0, 0.3));\n",
              "      fill: #FFFFFF;\n",
              "    }\n",
              "  </style>\n",
              "\n",
              "      <script>\n",
              "        const buttonEl =\n",
              "          document.querySelector('#df-c4cf1214-55fa-4c46-9b5a-a0349bd8ca88 button.colab-df-convert');\n",
              "        buttonEl.style.display =\n",
              "          google.colab.kernel.accessAllowed ? 'block' : 'none';\n",
              "\n",
              "        async function convertToInteractive(key) {\n",
              "          const element = document.querySelector('#df-c4cf1214-55fa-4c46-9b5a-a0349bd8ca88');\n",
              "          const dataTable =\n",
              "            await google.colab.kernel.invokeFunction('convertToInteractive',\n",
              "                                                     [key], {});\n",
              "          if (!dataTable) return;\n",
              "\n",
              "          const docLinkHtml = 'Like what you see? Visit the ' +\n",
              "            '<a target=\"_blank\" href=https://colab.research.google.com/notebooks/data_table.ipynb>data table notebook</a>'\n",
              "            + ' to learn more about interactive tables.';\n",
              "          element.innerHTML = '';\n",
              "          dataTable['output_type'] = 'display_data';\n",
              "          await google.colab.output.renderOutput(dataTable, element);\n",
              "          const docLink = document.createElement('div');\n",
              "          docLink.innerHTML = docLinkHtml;\n",
              "          element.appendChild(docLink);\n",
              "        }\n",
              "      </script>\n",
              "    </div>\n",
              "  </div>\n",
              "  "
            ]
          },
          "metadata": {},
          "execution_count": 4
        }
      ],
      "source": [
        "#New dataset\n",
        "df1 = pd.read_csv('/content/gdrive/MyDrive/Colab Notebooks/Student Mental health.csv')\n",
        "#Changing the Names of yhe columns\n",
        "dict = {'Choose your gender': 'Gender',\n",
        "       'What is your course?': 'Course',\n",
        "       'Your current year of Study' : 'Study Year',\n",
        "       'What is your CGPA?' : 'CGPA',\n",
        "       'Do you have Depression?' : 'Depression',\n",
        "        'Do you have Anxiety?' : 'Anxiety',\n",
        "        'Do you have Panic attack?' : 'Panic Attack',\n",
        "        'Did you seek any specialist for a treatment?' : 'Treatment'\n",
        "       }\n",
        "    \n",
        "df1.rename(columns = dict, inplace = True)\n",
        "df1.head()\n"
      ]
    },
    {
      "cell_type": "code",
      "execution_count": null,
      "metadata": {
        "colab": {
          "base_uri": "https://localhost:8080/",
          "height": 372
        },
        "id": "TuBhZWohxyxg",
        "outputId": "f65a226b-854e-4002-f294-c3028b6929fe"
      },
      "outputs": [
        {
          "output_type": "execute_result",
          "data": {
            "text/plain": [
              "               Timestamp Choose your gender   Age What is your course?  \\\n",
              "96   13/07/2020 19:56:49             Female  21.0                  BCS   \n",
              "97   13/07/2020 21:21:42               Male  18.0          Engineering   \n",
              "98   13/07/2020 21:22:56             Female  19.0             Nursing    \n",
              "99   13/07/2020 21:23:57             Female  23.0     Pendidikan Islam   \n",
              "100  18/07/2020 20:16:21               Male  20.0   Biomedical science   \n",
              "\n",
              "    Your current year of Study What is your CGPA? Marital status  \\\n",
              "96                      year 1        3.50 - 4.00             No   \n",
              "97                      Year 2        3.00 - 3.49             No   \n",
              "98                      Year 3        3.50 - 4.00            Yes   \n",
              "99                      year 4        3.50 - 4.00             No   \n",
              "100                     Year 2        3.00 - 3.49             No   \n",
              "\n",
              "    Do you have Depression? Do you have Anxiety? Do you have Panic attack?  \\\n",
              "96                       No                  Yes                        No   \n",
              "97                      Yes                  Yes                        No   \n",
              "98                      Yes                   No                       Yes   \n",
              "99                       No                   No                        No   \n",
              "100                      No                   No                        No   \n",
              "\n",
              "    Did you seek any specialist for a treatment?  \n",
              "96                                            No  \n",
              "97                                            No  \n",
              "98                                            No  \n",
              "99                                            No  \n",
              "100                                           No  "
            ],
            "text/html": [
              "\n",
              "  <div id=\"df-ac81d4ea-7e94-46f9-b27b-1ef54ade0e95\">\n",
              "    <div class=\"colab-df-container\">\n",
              "      <div>\n",
              "<style scoped>\n",
              "    .dataframe tbody tr th:only-of-type {\n",
              "        vertical-align: middle;\n",
              "    }\n",
              "\n",
              "    .dataframe tbody tr th {\n",
              "        vertical-align: top;\n",
              "    }\n",
              "\n",
              "    .dataframe thead th {\n",
              "        text-align: right;\n",
              "    }\n",
              "</style>\n",
              "<table border=\"1\" class=\"dataframe\">\n",
              "  <thead>\n",
              "    <tr style=\"text-align: right;\">\n",
              "      <th></th>\n",
              "      <th>Timestamp</th>\n",
              "      <th>Choose your gender</th>\n",
              "      <th>Age</th>\n",
              "      <th>What is your course?</th>\n",
              "      <th>Your current year of Study</th>\n",
              "      <th>What is your CGPA?</th>\n",
              "      <th>Marital status</th>\n",
              "      <th>Do you have Depression?</th>\n",
              "      <th>Do you have Anxiety?</th>\n",
              "      <th>Do you have Panic attack?</th>\n",
              "      <th>Did you seek any specialist for a treatment?</th>\n",
              "    </tr>\n",
              "  </thead>\n",
              "  <tbody>\n",
              "    <tr>\n",
              "      <th>96</th>\n",
              "      <td>13/07/2020 19:56:49</td>\n",
              "      <td>Female</td>\n",
              "      <td>21.0</td>\n",
              "      <td>BCS</td>\n",
              "      <td>year 1</td>\n",
              "      <td>3.50 - 4.00</td>\n",
              "      <td>No</td>\n",
              "      <td>No</td>\n",
              "      <td>Yes</td>\n",
              "      <td>No</td>\n",
              "      <td>No</td>\n",
              "    </tr>\n",
              "    <tr>\n",
              "      <th>97</th>\n",
              "      <td>13/07/2020 21:21:42</td>\n",
              "      <td>Male</td>\n",
              "      <td>18.0</td>\n",
              "      <td>Engineering</td>\n",
              "      <td>Year 2</td>\n",
              "      <td>3.00 - 3.49</td>\n",
              "      <td>No</td>\n",
              "      <td>Yes</td>\n",
              "      <td>Yes</td>\n",
              "      <td>No</td>\n",
              "      <td>No</td>\n",
              "    </tr>\n",
              "    <tr>\n",
              "      <th>98</th>\n",
              "      <td>13/07/2020 21:22:56</td>\n",
              "      <td>Female</td>\n",
              "      <td>19.0</td>\n",
              "      <td>Nursing</td>\n",
              "      <td>Year 3</td>\n",
              "      <td>3.50 - 4.00</td>\n",
              "      <td>Yes</td>\n",
              "      <td>Yes</td>\n",
              "      <td>No</td>\n",
              "      <td>Yes</td>\n",
              "      <td>No</td>\n",
              "    </tr>\n",
              "    <tr>\n",
              "      <th>99</th>\n",
              "      <td>13/07/2020 21:23:57</td>\n",
              "      <td>Female</td>\n",
              "      <td>23.0</td>\n",
              "      <td>Pendidikan Islam</td>\n",
              "      <td>year 4</td>\n",
              "      <td>3.50 - 4.00</td>\n",
              "      <td>No</td>\n",
              "      <td>No</td>\n",
              "      <td>No</td>\n",
              "      <td>No</td>\n",
              "      <td>No</td>\n",
              "    </tr>\n",
              "    <tr>\n",
              "      <th>100</th>\n",
              "      <td>18/07/2020 20:16:21</td>\n",
              "      <td>Male</td>\n",
              "      <td>20.0</td>\n",
              "      <td>Biomedical science</td>\n",
              "      <td>Year 2</td>\n",
              "      <td>3.00 - 3.49</td>\n",
              "      <td>No</td>\n",
              "      <td>No</td>\n",
              "      <td>No</td>\n",
              "      <td>No</td>\n",
              "      <td>No</td>\n",
              "    </tr>\n",
              "  </tbody>\n",
              "</table>\n",
              "</div>\n",
              "      <button class=\"colab-df-convert\" onclick=\"convertToInteractive('df-ac81d4ea-7e94-46f9-b27b-1ef54ade0e95')\"\n",
              "              title=\"Convert this dataframe to an interactive table.\"\n",
              "              style=\"display:none;\">\n",
              "        \n",
              "  <svg xmlns=\"http://www.w3.org/2000/svg\" height=\"24px\"viewBox=\"0 0 24 24\"\n",
              "       width=\"24px\">\n",
              "    <path d=\"M0 0h24v24H0V0z\" fill=\"none\"/>\n",
              "    <path d=\"M18.56 5.44l.94 2.06.94-2.06 2.06-.94-2.06-.94-.94-2.06-.94 2.06-2.06.94zm-11 1L8.5 8.5l.94-2.06 2.06-.94-2.06-.94L8.5 2.5l-.94 2.06-2.06.94zm10 10l.94 2.06.94-2.06 2.06-.94-2.06-.94-.94-2.06-.94 2.06-2.06.94z\"/><path d=\"M17.41 7.96l-1.37-1.37c-.4-.4-.92-.59-1.43-.59-.52 0-1.04.2-1.43.59L10.3 9.45l-7.72 7.72c-.78.78-.78 2.05 0 2.83L4 21.41c.39.39.9.59 1.41.59.51 0 1.02-.2 1.41-.59l7.78-7.78 2.81-2.81c.8-.78.8-2.07 0-2.86zM5.41 20L4 18.59l7.72-7.72 1.47 1.35L5.41 20z\"/>\n",
              "  </svg>\n",
              "      </button>\n",
              "      \n",
              "  <style>\n",
              "    .colab-df-container {\n",
              "      display:flex;\n",
              "      flex-wrap:wrap;\n",
              "      gap: 12px;\n",
              "    }\n",
              "\n",
              "    .colab-df-convert {\n",
              "      background-color: #E8F0FE;\n",
              "      border: none;\n",
              "      border-radius: 50%;\n",
              "      cursor: pointer;\n",
              "      display: none;\n",
              "      fill: #1967D2;\n",
              "      height: 32px;\n",
              "      padding: 0 0 0 0;\n",
              "      width: 32px;\n",
              "    }\n",
              "\n",
              "    .colab-df-convert:hover {\n",
              "      background-color: #E2EBFA;\n",
              "      box-shadow: 0px 1px 2px rgba(60, 64, 67, 0.3), 0px 1px 3px 1px rgba(60, 64, 67, 0.15);\n",
              "      fill: #174EA6;\n",
              "    }\n",
              "\n",
              "    [theme=dark] .colab-df-convert {\n",
              "      background-color: #3B4455;\n",
              "      fill: #D2E3FC;\n",
              "    }\n",
              "\n",
              "    [theme=dark] .colab-df-convert:hover {\n",
              "      background-color: #434B5C;\n",
              "      box-shadow: 0px 1px 3px 1px rgba(0, 0, 0, 0.15);\n",
              "      filter: drop-shadow(0px 1px 2px rgba(0, 0, 0, 0.3));\n",
              "      fill: #FFFFFF;\n",
              "    }\n",
              "  </style>\n",
              "\n",
              "      <script>\n",
              "        const buttonEl =\n",
              "          document.querySelector('#df-ac81d4ea-7e94-46f9-b27b-1ef54ade0e95 button.colab-df-convert');\n",
              "        buttonEl.style.display =\n",
              "          google.colab.kernel.accessAllowed ? 'block' : 'none';\n",
              "\n",
              "        async function convertToInteractive(key) {\n",
              "          const element = document.querySelector('#df-ac81d4ea-7e94-46f9-b27b-1ef54ade0e95');\n",
              "          const dataTable =\n",
              "            await google.colab.kernel.invokeFunction('convertToInteractive',\n",
              "                                                     [key], {});\n",
              "          if (!dataTable) return;\n",
              "\n",
              "          const docLinkHtml = 'Like what you see? Visit the ' +\n",
              "            '<a target=\"_blank\" href=https://colab.research.google.com/notebooks/data_table.ipynb>data table notebook</a>'\n",
              "            + ' to learn more about interactive tables.';\n",
              "          element.innerHTML = '';\n",
              "          dataTable['output_type'] = 'display_data';\n",
              "          await google.colab.output.renderOutput(dataTable, element);\n",
              "          const docLink = document.createElement('div');\n",
              "          docLink.innerHTML = docLinkHtml;\n",
              "          element.appendChild(docLink);\n",
              "        }\n",
              "      </script>\n",
              "    </div>\n",
              "  </div>\n",
              "  "
            ]
          },
          "metadata": {},
          "execution_count": 6
        }
      ],
      "source": [
        "df.tail()"
      ]
    },
    {
      "cell_type": "code",
      "execution_count": null,
      "metadata": {
        "colab": {
          "base_uri": "https://localhost:8080/"
        },
        "id": "ftrUBlWV1I9k",
        "outputId": "75ae890b-6bb5-4aa8-b3c7-f1344eadfffe"
      },
      "outputs": [
        {
          "output_type": "execute_result",
          "data": {
            "text/plain": [
              "True"
            ]
          },
          "metadata": {},
          "execution_count": 5
        }
      ],
      "source": [
        "#Checking null value\n",
        "df.isnull().values.any()"
      ]
    },
    {
      "cell_type": "code",
      "execution_count": null,
      "metadata": {
        "colab": {
          "base_uri": "https://localhost:8080/"
        },
        "id": "qj_wRGFZy7Vv",
        "outputId": "573da976-363c-48ed-f1ce-4f2b1a17d6d4"
      },
      "outputs": [
        {
          "output_type": "stream",
          "name": "stdout",
          "text": [
            "<class 'pandas.core.frame.DataFrame'>\n",
            "RangeIndex: 101 entries, 0 to 100\n",
            "Data columns (total 11 columns):\n",
            " #   Column                                        Non-Null Count  Dtype  \n",
            "---  ------                                        --------------  -----  \n",
            " 0   Timestamp                                     101 non-null    object \n",
            " 1   Choose your gender                            101 non-null    object \n",
            " 2   Age                                           100 non-null    float64\n",
            " 3   What is your course?                          101 non-null    object \n",
            " 4   Your current year of Study                    101 non-null    object \n",
            " 5   What is your CGPA?                            101 non-null    object \n",
            " 6   Marital status                                101 non-null    object \n",
            " 7   Do you have Depression?                       101 non-null    object \n",
            " 8   Do you have Anxiety?                          101 non-null    object \n",
            " 9   Do you have Panic attack?                     101 non-null    object \n",
            " 10  Did you seek any specialist for a treatment?  101 non-null    object \n",
            "dtypes: float64(1), object(10)\n",
            "memory usage: 8.8+ KB\n"
          ]
        }
      ],
      "source": [
        "df.info()"
      ]
    },
    {
      "cell_type": "code",
      "execution_count": null,
      "metadata": {
        "colab": {
          "base_uri": "https://localhost:8080/"
        },
        "id": "rSWYRGxMz7qR",
        "outputId": "4cfa2aa6-6d6c-42ef-9797-2e79ba104800"
      },
      "outputs": [
        {
          "output_type": "execute_result",
          "data": {
            "text/plain": [
              "Timestamp                                       0\n",
              "Choose your gender                              0\n",
              "Age                                             1\n",
              "What is your course?                            0\n",
              "Your current year of Study                      0\n",
              "What is your CGPA?                              0\n",
              "Marital status                                  0\n",
              "Do you have Depression?                         0\n",
              "Do you have Anxiety?                            0\n",
              "Do you have Panic attack?                       0\n",
              "Did you seek any specialist for a treatment?    0\n",
              "dtype: int64"
            ]
          },
          "metadata": {},
          "execution_count": 7
        }
      ],
      "source": [
        "#Checking for the Missing Values\n",
        "df.isnull().sum()"
      ]
    },
    {
      "cell_type": "code",
      "execution_count": null,
      "metadata": {
        "id": "HLDwobP90QvW"
      },
      "outputs": [],
      "source": [
        "#Finding the mean of the Age\n",
        "mean_value=df['Age'].mean()\n",
        "df['Age']=df['Age'].fillna(value=mean_value)"
      ]
    },
    {
      "cell_type": "code",
      "execution_count": null,
      "metadata": {
        "colab": {
          "base_uri": "https://localhost:8080/"
        },
        "id": "3jIps_NaYyHy",
        "outputId": "13cb5766-4a3d-40dd-cce8-5f367fb19533"
      },
      "outputs": [
        {
          "output_type": "execute_result",
          "data": {
            "text/plain": [
              "False"
            ]
          },
          "metadata": {},
          "execution_count": 9
        }
      ],
      "source": [
        "df.isnull().values.any()"
      ]
    },
    {
      "cell_type": "code",
      "execution_count": null,
      "metadata": {
        "colab": {
          "base_uri": "https://localhost:8080/"
        },
        "id": "SZ73oUQN04Sr",
        "outputId": "08cb66a6-1ebf-4cd5-f994-579ef6b089a4"
      },
      "outputs": [
        {
          "output_type": "execute_result",
          "data": {
            "text/plain": [
              "(101, 11)"
            ]
          },
          "metadata": {},
          "execution_count": 11
        }
      ],
      "source": [
        "df.shape"
      ]
    },
    {
      "cell_type": "code",
      "execution_count": null,
      "metadata": {
        "colab": {
          "base_uri": "https://localhost:8080/"
        },
        "id": "kZ1SSwSB1saD",
        "outputId": "b35fec5c-cc6c-42ab-e8ae-7395d20bb82d"
      },
      "outputs": [
        {
          "output_type": "execute_result",
          "data": {
            "text/plain": [
              "Index(['Timestamp', 'Choose your gender', 'Age', 'What is your course?',\n",
              "       'Your current year of Study', 'What is your CGPA?', 'Marital status',\n",
              "       'Do you have Depression?', 'Do you have Anxiety?',\n",
              "       'Do you have Panic attack?',\n",
              "       'Did you seek any specialist for a treatment?'],\n",
              "      dtype='object')"
            ]
          },
          "metadata": {},
          "execution_count": 10
        }
      ],
      "source": [
        "df.columns"
      ]
    },
    {
      "cell_type": "code",
      "execution_count": null,
      "metadata": {
        "id": "xR3sN0c9V231"
      },
      "outputs": [],
      "source": []
    },
    {
      "cell_type": "code",
      "execution_count": null,
      "metadata": {
        "colab": {
          "base_uri": "https://localhost:8080/",
          "height": 206
        },
        "id": "IA5_z8h68ugS",
        "outputId": "39b6ea5c-9fd9-4444-a2fa-e50badefa2a2"
      },
      "outputs": [
        {
          "output_type": "execute_result",
          "data": {
            "text/plain": [
              "        Timestamp  Gender   Age             Course Study Year         CGPA  \\\n",
              "0  8/7/2020 12:02  Female  18.0        Engineering     year 1  3.00 - 3.49   \n",
              "1  8/7/2020 12:04    Male  21.0  Islamic education     year 2  3.00 - 3.49   \n",
              "2  8/7/2020 12:05    Male  19.0                BIT     Year 1  3.00 - 3.49   \n",
              "3  8/7/2020 12:06  Female  22.0               Laws     year 3  3.00 - 3.49   \n",
              "4  8/7/2020 12:13    Male  23.0       Mathemathics     year 4  3.00 - 3.49   \n",
              "\n",
              "  Marital status Depression Anxiety Panic Attack Treatment  \n",
              "0             No        Yes      No          Yes        No  \n",
              "1             No         No     Yes           No        No  \n",
              "2             No        Yes     Yes          Yes        No  \n",
              "3            Yes        Yes      No           No        No  \n",
              "4             No         No      No           No        No  "
            ],
            "text/html": [
              "\n",
              "  <div id=\"df-f9d50948-0f09-4616-a2f2-cee95adf8437\">\n",
              "    <div class=\"colab-df-container\">\n",
              "      <div>\n",
              "<style scoped>\n",
              "    .dataframe tbody tr th:only-of-type {\n",
              "        vertical-align: middle;\n",
              "    }\n",
              "\n",
              "    .dataframe tbody tr th {\n",
              "        vertical-align: top;\n",
              "    }\n",
              "\n",
              "    .dataframe thead th {\n",
              "        text-align: right;\n",
              "    }\n",
              "</style>\n",
              "<table border=\"1\" class=\"dataframe\">\n",
              "  <thead>\n",
              "    <tr style=\"text-align: right;\">\n",
              "      <th></th>\n",
              "      <th>Timestamp</th>\n",
              "      <th>Gender</th>\n",
              "      <th>Age</th>\n",
              "      <th>Course</th>\n",
              "      <th>Study Year</th>\n",
              "      <th>CGPA</th>\n",
              "      <th>Marital status</th>\n",
              "      <th>Depression</th>\n",
              "      <th>Anxiety</th>\n",
              "      <th>Panic Attack</th>\n",
              "      <th>Treatment</th>\n",
              "    </tr>\n",
              "  </thead>\n",
              "  <tbody>\n",
              "    <tr>\n",
              "      <th>0</th>\n",
              "      <td>8/7/2020 12:02</td>\n",
              "      <td>Female</td>\n",
              "      <td>18.0</td>\n",
              "      <td>Engineering</td>\n",
              "      <td>year 1</td>\n",
              "      <td>3.00 - 3.49</td>\n",
              "      <td>No</td>\n",
              "      <td>Yes</td>\n",
              "      <td>No</td>\n",
              "      <td>Yes</td>\n",
              "      <td>No</td>\n",
              "    </tr>\n",
              "    <tr>\n",
              "      <th>1</th>\n",
              "      <td>8/7/2020 12:04</td>\n",
              "      <td>Male</td>\n",
              "      <td>21.0</td>\n",
              "      <td>Islamic education</td>\n",
              "      <td>year 2</td>\n",
              "      <td>3.00 - 3.49</td>\n",
              "      <td>No</td>\n",
              "      <td>No</td>\n",
              "      <td>Yes</td>\n",
              "      <td>No</td>\n",
              "      <td>No</td>\n",
              "    </tr>\n",
              "    <tr>\n",
              "      <th>2</th>\n",
              "      <td>8/7/2020 12:05</td>\n",
              "      <td>Male</td>\n",
              "      <td>19.0</td>\n",
              "      <td>BIT</td>\n",
              "      <td>Year 1</td>\n",
              "      <td>3.00 - 3.49</td>\n",
              "      <td>No</td>\n",
              "      <td>Yes</td>\n",
              "      <td>Yes</td>\n",
              "      <td>Yes</td>\n",
              "      <td>No</td>\n",
              "    </tr>\n",
              "    <tr>\n",
              "      <th>3</th>\n",
              "      <td>8/7/2020 12:06</td>\n",
              "      <td>Female</td>\n",
              "      <td>22.0</td>\n",
              "      <td>Laws</td>\n",
              "      <td>year 3</td>\n",
              "      <td>3.00 - 3.49</td>\n",
              "      <td>Yes</td>\n",
              "      <td>Yes</td>\n",
              "      <td>No</td>\n",
              "      <td>No</td>\n",
              "      <td>No</td>\n",
              "    </tr>\n",
              "    <tr>\n",
              "      <th>4</th>\n",
              "      <td>8/7/2020 12:13</td>\n",
              "      <td>Male</td>\n",
              "      <td>23.0</td>\n",
              "      <td>Mathemathics</td>\n",
              "      <td>year 4</td>\n",
              "      <td>3.00 - 3.49</td>\n",
              "      <td>No</td>\n",
              "      <td>No</td>\n",
              "      <td>No</td>\n",
              "      <td>No</td>\n",
              "      <td>No</td>\n",
              "    </tr>\n",
              "  </tbody>\n",
              "</table>\n",
              "</div>\n",
              "      <button class=\"colab-df-convert\" onclick=\"convertToInteractive('df-f9d50948-0f09-4616-a2f2-cee95adf8437')\"\n",
              "              title=\"Convert this dataframe to an interactive table.\"\n",
              "              style=\"display:none;\">\n",
              "        \n",
              "  <svg xmlns=\"http://www.w3.org/2000/svg\" height=\"24px\"viewBox=\"0 0 24 24\"\n",
              "       width=\"24px\">\n",
              "    <path d=\"M0 0h24v24H0V0z\" fill=\"none\"/>\n",
              "    <path d=\"M18.56 5.44l.94 2.06.94-2.06 2.06-.94-2.06-.94-.94-2.06-.94 2.06-2.06.94zm-11 1L8.5 8.5l.94-2.06 2.06-.94-2.06-.94L8.5 2.5l-.94 2.06-2.06.94zm10 10l.94 2.06.94-2.06 2.06-.94-2.06-.94-.94-2.06-.94 2.06-2.06.94z\"/><path d=\"M17.41 7.96l-1.37-1.37c-.4-.4-.92-.59-1.43-.59-.52 0-1.04.2-1.43.59L10.3 9.45l-7.72 7.72c-.78.78-.78 2.05 0 2.83L4 21.41c.39.39.9.59 1.41.59.51 0 1.02-.2 1.41-.59l7.78-7.78 2.81-2.81c.8-.78.8-2.07 0-2.86zM5.41 20L4 18.59l7.72-7.72 1.47 1.35L5.41 20z\"/>\n",
              "  </svg>\n",
              "      </button>\n",
              "      \n",
              "  <style>\n",
              "    .colab-df-container {\n",
              "      display:flex;\n",
              "      flex-wrap:wrap;\n",
              "      gap: 12px;\n",
              "    }\n",
              "\n",
              "    .colab-df-convert {\n",
              "      background-color: #E8F0FE;\n",
              "      border: none;\n",
              "      border-radius: 50%;\n",
              "      cursor: pointer;\n",
              "      display: none;\n",
              "      fill: #1967D2;\n",
              "      height: 32px;\n",
              "      padding: 0 0 0 0;\n",
              "      width: 32px;\n",
              "    }\n",
              "\n",
              "    .colab-df-convert:hover {\n",
              "      background-color: #E2EBFA;\n",
              "      box-shadow: 0px 1px 2px rgba(60, 64, 67, 0.3), 0px 1px 3px 1px rgba(60, 64, 67, 0.15);\n",
              "      fill: #174EA6;\n",
              "    }\n",
              "\n",
              "    [theme=dark] .colab-df-convert {\n",
              "      background-color: #3B4455;\n",
              "      fill: #D2E3FC;\n",
              "    }\n",
              "\n",
              "    [theme=dark] .colab-df-convert:hover {\n",
              "      background-color: #434B5C;\n",
              "      box-shadow: 0px 1px 3px 1px rgba(0, 0, 0, 0.15);\n",
              "      filter: drop-shadow(0px 1px 2px rgba(0, 0, 0, 0.3));\n",
              "      fill: #FFFFFF;\n",
              "    }\n",
              "  </style>\n",
              "\n",
              "      <script>\n",
              "        const buttonEl =\n",
              "          document.querySelector('#df-f9d50948-0f09-4616-a2f2-cee95adf8437 button.colab-df-convert');\n",
              "        buttonEl.style.display =\n",
              "          google.colab.kernel.accessAllowed ? 'block' : 'none';\n",
              "\n",
              "        async function convertToInteractive(key) {\n",
              "          const element = document.querySelector('#df-f9d50948-0f09-4616-a2f2-cee95adf8437');\n",
              "          const dataTable =\n",
              "            await google.colab.kernel.invokeFunction('convertToInteractive',\n",
              "                                                     [key], {});\n",
              "          if (!dataTable) return;\n",
              "\n",
              "          const docLinkHtml = 'Like what you see? Visit the ' +\n",
              "            '<a target=\"_blank\" href=https://colab.research.google.com/notebooks/data_table.ipynb>data table notebook</a>'\n",
              "            + ' to learn more about interactive tables.';\n",
              "          element.innerHTML = '';\n",
              "          dataTable['output_type'] = 'display_data';\n",
              "          await google.colab.output.renderOutput(dataTable, element);\n",
              "          const docLink = document.createElement('div');\n",
              "          docLink.innerHTML = docLinkHtml;\n",
              "          element.appendChild(docLink);\n",
              "        }\n",
              "      </script>\n",
              "    </div>\n",
              "  </div>\n",
              "  "
            ]
          },
          "metadata": {},
          "execution_count": 12
        }
      ],
      "source": [
        "#Changing the Names of yhe columns\n",
        "dict = {'Choose your gender': 'Gender',\n",
        "       'What is your course?': 'Course',\n",
        "       'Your current year of Study' : 'Study Year',\n",
        "       'What is your CGPA?' : 'CGPA',\n",
        "       'Do you have Depression?' : 'Depression',\n",
        "        'Do you have Anxiety?' : 'Anxiety',\n",
        "        'Do you have Panic attack?' : 'Panic Attack',\n",
        "        'Did you seek any specialist for a treatment?' : 'Treatment'\n",
        "       }\n",
        "    \n",
        "df.rename(columns = dict, inplace = True)\n",
        "df.head()"
      ]
    },
    {
      "cell_type": "code",
      "execution_count": null,
      "metadata": {
        "colab": {
          "base_uri": "https://localhost:8080/",
          "height": 206
        },
        "id": "K1-289BpOQzI",
        "outputId": "02078d16-1e69-4b44-dfb8-d25a130aade3"
      },
      "outputs": [
        {
          "output_type": "execute_result",
          "data": {
            "text/plain": [
              "        Timestamp  Gender   Age             Course Study Year         CGPA  \\\n",
              "0  8/7/2020 12:02       0  18.0        Engineering     year 1  3.00 - 3.49   \n",
              "1  8/7/2020 12:04       1  21.0  Islamic education     year 2  3.00 - 3.49   \n",
              "2  8/7/2020 12:05       1  19.0                BIT     Year 1  3.00 - 3.49   \n",
              "3  8/7/2020 12:06       0  22.0               Laws     year 3  3.00 - 3.49   \n",
              "4  8/7/2020 12:13       1  23.0       Mathemathics     year 4  3.00 - 3.49   \n",
              "\n",
              "   Marital status  Depression  Anxiety  Panic Attack  Treatment  \n",
              "0               0           1        0             1          0  \n",
              "1               0           0        1             0          0  \n",
              "2               0           1        1             1          0  \n",
              "3               1           1        0             0          0  \n",
              "4               0           0        0             0          0  "
            ],
            "text/html": [
              "\n",
              "  <div id=\"df-7a51d088-4eb2-45bb-98c1-7e72f351dbb9\">\n",
              "    <div class=\"colab-df-container\">\n",
              "      <div>\n",
              "<style scoped>\n",
              "    .dataframe tbody tr th:only-of-type {\n",
              "        vertical-align: middle;\n",
              "    }\n",
              "\n",
              "    .dataframe tbody tr th {\n",
              "        vertical-align: top;\n",
              "    }\n",
              "\n",
              "    .dataframe thead th {\n",
              "        text-align: right;\n",
              "    }\n",
              "</style>\n",
              "<table border=\"1\" class=\"dataframe\">\n",
              "  <thead>\n",
              "    <tr style=\"text-align: right;\">\n",
              "      <th></th>\n",
              "      <th>Timestamp</th>\n",
              "      <th>Gender</th>\n",
              "      <th>Age</th>\n",
              "      <th>Course</th>\n",
              "      <th>Study Year</th>\n",
              "      <th>CGPA</th>\n",
              "      <th>Marital status</th>\n",
              "      <th>Depression</th>\n",
              "      <th>Anxiety</th>\n",
              "      <th>Panic Attack</th>\n",
              "      <th>Treatment</th>\n",
              "    </tr>\n",
              "  </thead>\n",
              "  <tbody>\n",
              "    <tr>\n",
              "      <th>0</th>\n",
              "      <td>8/7/2020 12:02</td>\n",
              "      <td>0</td>\n",
              "      <td>18.0</td>\n",
              "      <td>Engineering</td>\n",
              "      <td>year 1</td>\n",
              "      <td>3.00 - 3.49</td>\n",
              "      <td>0</td>\n",
              "      <td>1</td>\n",
              "      <td>0</td>\n",
              "      <td>1</td>\n",
              "      <td>0</td>\n",
              "    </tr>\n",
              "    <tr>\n",
              "      <th>1</th>\n",
              "      <td>8/7/2020 12:04</td>\n",
              "      <td>1</td>\n",
              "      <td>21.0</td>\n",
              "      <td>Islamic education</td>\n",
              "      <td>year 2</td>\n",
              "      <td>3.00 - 3.49</td>\n",
              "      <td>0</td>\n",
              "      <td>0</td>\n",
              "      <td>1</td>\n",
              "      <td>0</td>\n",
              "      <td>0</td>\n",
              "    </tr>\n",
              "    <tr>\n",
              "      <th>2</th>\n",
              "      <td>8/7/2020 12:05</td>\n",
              "      <td>1</td>\n",
              "      <td>19.0</td>\n",
              "      <td>BIT</td>\n",
              "      <td>Year 1</td>\n",
              "      <td>3.00 - 3.49</td>\n",
              "      <td>0</td>\n",
              "      <td>1</td>\n",
              "      <td>1</td>\n",
              "      <td>1</td>\n",
              "      <td>0</td>\n",
              "    </tr>\n",
              "    <tr>\n",
              "      <th>3</th>\n",
              "      <td>8/7/2020 12:06</td>\n",
              "      <td>0</td>\n",
              "      <td>22.0</td>\n",
              "      <td>Laws</td>\n",
              "      <td>year 3</td>\n",
              "      <td>3.00 - 3.49</td>\n",
              "      <td>1</td>\n",
              "      <td>1</td>\n",
              "      <td>0</td>\n",
              "      <td>0</td>\n",
              "      <td>0</td>\n",
              "    </tr>\n",
              "    <tr>\n",
              "      <th>4</th>\n",
              "      <td>8/7/2020 12:13</td>\n",
              "      <td>1</td>\n",
              "      <td>23.0</td>\n",
              "      <td>Mathemathics</td>\n",
              "      <td>year 4</td>\n",
              "      <td>3.00 - 3.49</td>\n",
              "      <td>0</td>\n",
              "      <td>0</td>\n",
              "      <td>0</td>\n",
              "      <td>0</td>\n",
              "      <td>0</td>\n",
              "    </tr>\n",
              "  </tbody>\n",
              "</table>\n",
              "</div>\n",
              "      <button class=\"colab-df-convert\" onclick=\"convertToInteractive('df-7a51d088-4eb2-45bb-98c1-7e72f351dbb9')\"\n",
              "              title=\"Convert this dataframe to an interactive table.\"\n",
              "              style=\"display:none;\">\n",
              "        \n",
              "  <svg xmlns=\"http://www.w3.org/2000/svg\" height=\"24px\"viewBox=\"0 0 24 24\"\n",
              "       width=\"24px\">\n",
              "    <path d=\"M0 0h24v24H0V0z\" fill=\"none\"/>\n",
              "    <path d=\"M18.56 5.44l.94 2.06.94-2.06 2.06-.94-2.06-.94-.94-2.06-.94 2.06-2.06.94zm-11 1L8.5 8.5l.94-2.06 2.06-.94-2.06-.94L8.5 2.5l-.94 2.06-2.06.94zm10 10l.94 2.06.94-2.06 2.06-.94-2.06-.94-.94-2.06-.94 2.06-2.06.94z\"/><path d=\"M17.41 7.96l-1.37-1.37c-.4-.4-.92-.59-1.43-.59-.52 0-1.04.2-1.43.59L10.3 9.45l-7.72 7.72c-.78.78-.78 2.05 0 2.83L4 21.41c.39.39.9.59 1.41.59.51 0 1.02-.2 1.41-.59l7.78-7.78 2.81-2.81c.8-.78.8-2.07 0-2.86zM5.41 20L4 18.59l7.72-7.72 1.47 1.35L5.41 20z\"/>\n",
              "  </svg>\n",
              "      </button>\n",
              "      \n",
              "  <style>\n",
              "    .colab-df-container {\n",
              "      display:flex;\n",
              "      flex-wrap:wrap;\n",
              "      gap: 12px;\n",
              "    }\n",
              "\n",
              "    .colab-df-convert {\n",
              "      background-color: #E8F0FE;\n",
              "      border: none;\n",
              "      border-radius: 50%;\n",
              "      cursor: pointer;\n",
              "      display: none;\n",
              "      fill: #1967D2;\n",
              "      height: 32px;\n",
              "      padding: 0 0 0 0;\n",
              "      width: 32px;\n",
              "    }\n",
              "\n",
              "    .colab-df-convert:hover {\n",
              "      background-color: #E2EBFA;\n",
              "      box-shadow: 0px 1px 2px rgba(60, 64, 67, 0.3), 0px 1px 3px 1px rgba(60, 64, 67, 0.15);\n",
              "      fill: #174EA6;\n",
              "    }\n",
              "\n",
              "    [theme=dark] .colab-df-convert {\n",
              "      background-color: #3B4455;\n",
              "      fill: #D2E3FC;\n",
              "    }\n",
              "\n",
              "    [theme=dark] .colab-df-convert:hover {\n",
              "      background-color: #434B5C;\n",
              "      box-shadow: 0px 1px 3px 1px rgba(0, 0, 0, 0.15);\n",
              "      filter: drop-shadow(0px 1px 2px rgba(0, 0, 0, 0.3));\n",
              "      fill: #FFFFFF;\n",
              "    }\n",
              "  </style>\n",
              "\n",
              "      <script>\n",
              "        const buttonEl =\n",
              "          document.querySelector('#df-7a51d088-4eb2-45bb-98c1-7e72f351dbb9 button.colab-df-convert');\n",
              "        buttonEl.style.display =\n",
              "          google.colab.kernel.accessAllowed ? 'block' : 'none';\n",
              "\n",
              "        async function convertToInteractive(key) {\n",
              "          const element = document.querySelector('#df-7a51d088-4eb2-45bb-98c1-7e72f351dbb9');\n",
              "          const dataTable =\n",
              "            await google.colab.kernel.invokeFunction('convertToInteractive',\n",
              "                                                     [key], {});\n",
              "          if (!dataTable) return;\n",
              "\n",
              "          const docLinkHtml = 'Like what you see? Visit the ' +\n",
              "            '<a target=\"_blank\" href=https://colab.research.google.com/notebooks/data_table.ipynb>data table notebook</a>'\n",
              "            + ' to learn more about interactive tables.';\n",
              "          element.innerHTML = '';\n",
              "          dataTable['output_type'] = 'display_data';\n",
              "          await google.colab.output.renderOutput(dataTable, element);\n",
              "          const docLink = document.createElement('div');\n",
              "          docLink.innerHTML = docLinkHtml;\n",
              "          element.appendChild(docLink);\n",
              "        }\n",
              "      </script>\n",
              "    </div>\n",
              "  </div>\n",
              "  "
            ]
          },
          "metadata": {},
          "execution_count": 13
        }
      ],
      "source": [
        "#Data Preprocessing\n",
        "df.replace({'Yes':1,'No':0,'Male':1,'Female':0}, inplace=True)\n",
        "df.head()"
      ]
    },
    {
      "cell_type": "code",
      "execution_count": null,
      "metadata": {
        "colab": {
          "base_uri": "https://localhost:8080/"
        },
        "id": "wWv0dJQrPrjh",
        "outputId": "d1f98d30-8ef6-462c-bd08-2e2322e8172d"
      },
      "outputs": [
        {
          "output_type": "execute_result",
          "data": {
            "text/plain": [
              "0      1\n",
              "1      2\n",
              "2      1\n",
              "3      3\n",
              "4      4\n",
              "      ..\n",
              "96     1\n",
              "97     2\n",
              "98     3\n",
              "99     4\n",
              "100    2\n",
              "Name: Study Year, Length: 101, dtype: int64"
            ]
          },
          "metadata": {},
          "execution_count": 14
        }
      ],
      "source": [
        "#Changing the Study Year in Numeric Form\n",
        "df['Study Year'] = df['Study Year'].str.lower()\n",
        "df['Study Year'] = df['Study Year'].str.strip('year')\n",
        "df['Study Year'].astype(int)"
      ]
    },
    {
      "cell_type": "code",
      "execution_count": null,
      "metadata": {
        "colab": {
          "base_uri": "https://localhost:8080/"
        },
        "id": "t2Q8QORKR7eX",
        "outputId": "a58ad985-6d72-4182-92a9-224e8d412f77"
      },
      "outputs": [
        {
          "output_type": "execute_result",
          "data": {
            "text/plain": [
              "array(['3.00 - 3.49', '3.50 - 4.00', '3.50 - 4.00 ', '2.50 - 2.99',\n",
              "       '2.00 - 2.49', '0 - 1.99'], dtype=object)"
            ]
          },
          "metadata": {},
          "execution_count": 15
        }
      ],
      "source": [
        "df['CGPA'].unique()\n"
      ]
    },
    {
      "cell_type": "code",
      "execution_count": null,
      "metadata": {
        "colab": {
          "base_uri": "https://localhost:8080/"
        },
        "id": "IW3NT3fXTPic",
        "outputId": "e33cdd44-39ee-4861-8958-cca2e8dda91c"
      },
      "outputs": [
        {
          "output_type": "execute_result",
          "data": {
            "text/plain": [
              "array(['3.00 - 3.49', '3.50 - 4.00', '3.50 - 4.00 ', '2.50 - 2.99',\n",
              "       '2.00 - 2.49', '0 - 1.99'], dtype=object)"
            ]
          },
          "metadata": {},
          "execution_count": 16
        }
      ],
      "source": [
        "df['CGPA'].unique()\n"
      ]
    },
    {
      "cell_type": "code",
      "execution_count": null,
      "metadata": {
        "colab": {
          "base_uri": "https://localhost:8080/"
        },
        "id": "zVTbp0hDTRVU",
        "outputId": "927f0645-b5c1-47be-df34-025e79878005"
      },
      "outputs": [
        {
          "output_type": "execute_result",
          "data": {
            "text/plain": [
              "array(['3.00 - 3.49', '3.50 - 4.00', '2.50 - 2.99', '2.00 - 2.49',\n",
              "       '0 - 1.99'], dtype=object)"
            ]
          },
          "metadata": {},
          "execution_count": 17
        }
      ],
      "source": [
        "#Replacing the Values in CGPA, which have extra values unusable\n",
        "df.replace({'3.50 - 4.00 ':'3.50 - 4.00'},regex=True,inplace=True)\n",
        "df['CGPA'].unique()\n"
      ]
    },
    {
      "cell_type": "code",
      "execution_count": null,
      "metadata": {
        "colab": {
          "base_uri": "https://localhost:8080/",
          "height": 424
        },
        "id": "8bikEoImTlta",
        "outputId": "f71699cb-12ff-46e5-ced3-56cde1c70b18"
      },
      "outputs": [
        {
          "output_type": "execute_result",
          "data": {
            "text/plain": [
              "               Timestamp  Gender   Age              Course Study Year  \\\n",
              "0         8/7/2020 12:02       0  18.0         Engineering          1   \n",
              "1         8/7/2020 12:04       1  21.0   Islamic education          2   \n",
              "2         8/7/2020 12:05       1  19.0                 BIT          1   \n",
              "3         8/7/2020 12:06       0  22.0                Laws          3   \n",
              "4         8/7/2020 12:13       1  23.0        Mathemathics          4   \n",
              "..                   ...     ...   ...                 ...        ...   \n",
              "96   13/07/2020 19:56:49       0  21.0                 BCS          1   \n",
              "97   13/07/2020 21:21:42       1  18.0         Engineering          2   \n",
              "98   13/07/2020 21:22:56       0  19.0            Nursing           3   \n",
              "99   13/07/2020 21:23:57       0  23.0    Pendidikan Islam          4   \n",
              "100  18/07/2020 20:16:21       1  20.0  Biomedical science          2   \n",
              "\n",
              "            CGPA  Marital status  Depression  Anxiety  Panic Attack  Treatment  \n",
              "0    3.00 - 3.49               0           1        0             1          0  \n",
              "1    3.00 - 3.49               0           0        1             0          0  \n",
              "2    3.00 - 3.49               0           1        1             1          0  \n",
              "3    3.00 - 3.49               1           1        0             0          0  \n",
              "4    3.00 - 3.49               0           0        0             0          0  \n",
              "..           ...             ...         ...      ...           ...        ...  \n",
              "96   3.50 - 4.00               0           0        1             0          0  \n",
              "97   3.00 - 3.49               0           1        1             0          0  \n",
              "98   3.50 - 4.00               1           1        0             1          0  \n",
              "99   3.50 - 4.00               0           0        0             0          0  \n",
              "100  3.00 - 3.49               0           0        0             0          0  \n",
              "\n",
              "[101 rows x 11 columns]"
            ],
            "text/html": [
              "\n",
              "  <div id=\"df-b21e6a91-bea2-4d6d-9dc7-ce69cbdaa400\">\n",
              "    <div class=\"colab-df-container\">\n",
              "      <div>\n",
              "<style scoped>\n",
              "    .dataframe tbody tr th:only-of-type {\n",
              "        vertical-align: middle;\n",
              "    }\n",
              "\n",
              "    .dataframe tbody tr th {\n",
              "        vertical-align: top;\n",
              "    }\n",
              "\n",
              "    .dataframe thead th {\n",
              "        text-align: right;\n",
              "    }\n",
              "</style>\n",
              "<table border=\"1\" class=\"dataframe\">\n",
              "  <thead>\n",
              "    <tr style=\"text-align: right;\">\n",
              "      <th></th>\n",
              "      <th>Timestamp</th>\n",
              "      <th>Gender</th>\n",
              "      <th>Age</th>\n",
              "      <th>Course</th>\n",
              "      <th>Study Year</th>\n",
              "      <th>CGPA</th>\n",
              "      <th>Marital status</th>\n",
              "      <th>Depression</th>\n",
              "      <th>Anxiety</th>\n",
              "      <th>Panic Attack</th>\n",
              "      <th>Treatment</th>\n",
              "    </tr>\n",
              "  </thead>\n",
              "  <tbody>\n",
              "    <tr>\n",
              "      <th>0</th>\n",
              "      <td>8/7/2020 12:02</td>\n",
              "      <td>0</td>\n",
              "      <td>18.0</td>\n",
              "      <td>Engineering</td>\n",
              "      <td>1</td>\n",
              "      <td>3.00 - 3.49</td>\n",
              "      <td>0</td>\n",
              "      <td>1</td>\n",
              "      <td>0</td>\n",
              "      <td>1</td>\n",
              "      <td>0</td>\n",
              "    </tr>\n",
              "    <tr>\n",
              "      <th>1</th>\n",
              "      <td>8/7/2020 12:04</td>\n",
              "      <td>1</td>\n",
              "      <td>21.0</td>\n",
              "      <td>Islamic education</td>\n",
              "      <td>2</td>\n",
              "      <td>3.00 - 3.49</td>\n",
              "      <td>0</td>\n",
              "      <td>0</td>\n",
              "      <td>1</td>\n",
              "      <td>0</td>\n",
              "      <td>0</td>\n",
              "    </tr>\n",
              "    <tr>\n",
              "      <th>2</th>\n",
              "      <td>8/7/2020 12:05</td>\n",
              "      <td>1</td>\n",
              "      <td>19.0</td>\n",
              "      <td>BIT</td>\n",
              "      <td>1</td>\n",
              "      <td>3.00 - 3.49</td>\n",
              "      <td>0</td>\n",
              "      <td>1</td>\n",
              "      <td>1</td>\n",
              "      <td>1</td>\n",
              "      <td>0</td>\n",
              "    </tr>\n",
              "    <tr>\n",
              "      <th>3</th>\n",
              "      <td>8/7/2020 12:06</td>\n",
              "      <td>0</td>\n",
              "      <td>22.0</td>\n",
              "      <td>Laws</td>\n",
              "      <td>3</td>\n",
              "      <td>3.00 - 3.49</td>\n",
              "      <td>1</td>\n",
              "      <td>1</td>\n",
              "      <td>0</td>\n",
              "      <td>0</td>\n",
              "      <td>0</td>\n",
              "    </tr>\n",
              "    <tr>\n",
              "      <th>4</th>\n",
              "      <td>8/7/2020 12:13</td>\n",
              "      <td>1</td>\n",
              "      <td>23.0</td>\n",
              "      <td>Mathemathics</td>\n",
              "      <td>4</td>\n",
              "      <td>3.00 - 3.49</td>\n",
              "      <td>0</td>\n",
              "      <td>0</td>\n",
              "      <td>0</td>\n",
              "      <td>0</td>\n",
              "      <td>0</td>\n",
              "    </tr>\n",
              "    <tr>\n",
              "      <th>...</th>\n",
              "      <td>...</td>\n",
              "      <td>...</td>\n",
              "      <td>...</td>\n",
              "      <td>...</td>\n",
              "      <td>...</td>\n",
              "      <td>...</td>\n",
              "      <td>...</td>\n",
              "      <td>...</td>\n",
              "      <td>...</td>\n",
              "      <td>...</td>\n",
              "      <td>...</td>\n",
              "    </tr>\n",
              "    <tr>\n",
              "      <th>96</th>\n",
              "      <td>13/07/2020 19:56:49</td>\n",
              "      <td>0</td>\n",
              "      <td>21.0</td>\n",
              "      <td>BCS</td>\n",
              "      <td>1</td>\n",
              "      <td>3.50 - 4.00</td>\n",
              "      <td>0</td>\n",
              "      <td>0</td>\n",
              "      <td>1</td>\n",
              "      <td>0</td>\n",
              "      <td>0</td>\n",
              "    </tr>\n",
              "    <tr>\n",
              "      <th>97</th>\n",
              "      <td>13/07/2020 21:21:42</td>\n",
              "      <td>1</td>\n",
              "      <td>18.0</td>\n",
              "      <td>Engineering</td>\n",
              "      <td>2</td>\n",
              "      <td>3.00 - 3.49</td>\n",
              "      <td>0</td>\n",
              "      <td>1</td>\n",
              "      <td>1</td>\n",
              "      <td>0</td>\n",
              "      <td>0</td>\n",
              "    </tr>\n",
              "    <tr>\n",
              "      <th>98</th>\n",
              "      <td>13/07/2020 21:22:56</td>\n",
              "      <td>0</td>\n",
              "      <td>19.0</td>\n",
              "      <td>Nursing</td>\n",
              "      <td>3</td>\n",
              "      <td>3.50 - 4.00</td>\n",
              "      <td>1</td>\n",
              "      <td>1</td>\n",
              "      <td>0</td>\n",
              "      <td>1</td>\n",
              "      <td>0</td>\n",
              "    </tr>\n",
              "    <tr>\n",
              "      <th>99</th>\n",
              "      <td>13/07/2020 21:23:57</td>\n",
              "      <td>0</td>\n",
              "      <td>23.0</td>\n",
              "      <td>Pendidikan Islam</td>\n",
              "      <td>4</td>\n",
              "      <td>3.50 - 4.00</td>\n",
              "      <td>0</td>\n",
              "      <td>0</td>\n",
              "      <td>0</td>\n",
              "      <td>0</td>\n",
              "      <td>0</td>\n",
              "    </tr>\n",
              "    <tr>\n",
              "      <th>100</th>\n",
              "      <td>18/07/2020 20:16:21</td>\n",
              "      <td>1</td>\n",
              "      <td>20.0</td>\n",
              "      <td>Biomedical science</td>\n",
              "      <td>2</td>\n",
              "      <td>3.00 - 3.49</td>\n",
              "      <td>0</td>\n",
              "      <td>0</td>\n",
              "      <td>0</td>\n",
              "      <td>0</td>\n",
              "      <td>0</td>\n",
              "    </tr>\n",
              "  </tbody>\n",
              "</table>\n",
              "<p>101 rows × 11 columns</p>\n",
              "</div>\n",
              "      <button class=\"colab-df-convert\" onclick=\"convertToInteractive('df-b21e6a91-bea2-4d6d-9dc7-ce69cbdaa400')\"\n",
              "              title=\"Convert this dataframe to an interactive table.\"\n",
              "              style=\"display:none;\">\n",
              "        \n",
              "  <svg xmlns=\"http://www.w3.org/2000/svg\" height=\"24px\"viewBox=\"0 0 24 24\"\n",
              "       width=\"24px\">\n",
              "    <path d=\"M0 0h24v24H0V0z\" fill=\"none\"/>\n",
              "    <path d=\"M18.56 5.44l.94 2.06.94-2.06 2.06-.94-2.06-.94-.94-2.06-.94 2.06-2.06.94zm-11 1L8.5 8.5l.94-2.06 2.06-.94-2.06-.94L8.5 2.5l-.94 2.06-2.06.94zm10 10l.94 2.06.94-2.06 2.06-.94-2.06-.94-.94-2.06-.94 2.06-2.06.94z\"/><path d=\"M17.41 7.96l-1.37-1.37c-.4-.4-.92-.59-1.43-.59-.52 0-1.04.2-1.43.59L10.3 9.45l-7.72 7.72c-.78.78-.78 2.05 0 2.83L4 21.41c.39.39.9.59 1.41.59.51 0 1.02-.2 1.41-.59l7.78-7.78 2.81-2.81c.8-.78.8-2.07 0-2.86zM5.41 20L4 18.59l7.72-7.72 1.47 1.35L5.41 20z\"/>\n",
              "  </svg>\n",
              "      </button>\n",
              "      \n",
              "  <style>\n",
              "    .colab-df-container {\n",
              "      display:flex;\n",
              "      flex-wrap:wrap;\n",
              "      gap: 12px;\n",
              "    }\n",
              "\n",
              "    .colab-df-convert {\n",
              "      background-color: #E8F0FE;\n",
              "      border: none;\n",
              "      border-radius: 50%;\n",
              "      cursor: pointer;\n",
              "      display: none;\n",
              "      fill: #1967D2;\n",
              "      height: 32px;\n",
              "      padding: 0 0 0 0;\n",
              "      width: 32px;\n",
              "    }\n",
              "\n",
              "    .colab-df-convert:hover {\n",
              "      background-color: #E2EBFA;\n",
              "      box-shadow: 0px 1px 2px rgba(60, 64, 67, 0.3), 0px 1px 3px 1px rgba(60, 64, 67, 0.15);\n",
              "      fill: #174EA6;\n",
              "    }\n",
              "\n",
              "    [theme=dark] .colab-df-convert {\n",
              "      background-color: #3B4455;\n",
              "      fill: #D2E3FC;\n",
              "    }\n",
              "\n",
              "    [theme=dark] .colab-df-convert:hover {\n",
              "      background-color: #434B5C;\n",
              "      box-shadow: 0px 1px 3px 1px rgba(0, 0, 0, 0.15);\n",
              "      filter: drop-shadow(0px 1px 2px rgba(0, 0, 0, 0.3));\n",
              "      fill: #FFFFFF;\n",
              "    }\n",
              "  </style>\n",
              "\n",
              "      <script>\n",
              "        const buttonEl =\n",
              "          document.querySelector('#df-b21e6a91-bea2-4d6d-9dc7-ce69cbdaa400 button.colab-df-convert');\n",
              "        buttonEl.style.display =\n",
              "          google.colab.kernel.accessAllowed ? 'block' : 'none';\n",
              "\n",
              "        async function convertToInteractive(key) {\n",
              "          const element = document.querySelector('#df-b21e6a91-bea2-4d6d-9dc7-ce69cbdaa400');\n",
              "          const dataTable =\n",
              "            await google.colab.kernel.invokeFunction('convertToInteractive',\n",
              "                                                     [key], {});\n",
              "          if (!dataTable) return;\n",
              "\n",
              "          const docLinkHtml = 'Like what you see? Visit the ' +\n",
              "            '<a target=\"_blank\" href=https://colab.research.google.com/notebooks/data_table.ipynb>data table notebook</a>'\n",
              "            + ' to learn more about interactive tables.';\n",
              "          element.innerHTML = '';\n",
              "          dataTable['output_type'] = 'display_data';\n",
              "          await google.colab.output.renderOutput(dataTable, element);\n",
              "          const docLink = document.createElement('div');\n",
              "          docLink.innerHTML = docLinkHtml;\n",
              "          element.appendChild(docLink);\n",
              "        }\n",
              "      </script>\n",
              "    </div>\n",
              "  </div>\n",
              "  "
            ]
          },
          "metadata": {},
          "execution_count": 18
        }
      ],
      "source": [
        "df"
      ]
    },
    {
      "cell_type": "code",
      "execution_count": null,
      "metadata": {
        "colab": {
          "base_uri": "https://localhost:8080/",
          "height": 269
        },
        "id": "Y55dUQypV-K9",
        "outputId": "76978943-5247-444c-9ec3-e4677fd9a948"
      },
      "outputs": [
        {
          "output_type": "execute_result",
          "data": {
            "text/plain": [
              "                  Gender       Age  Marital status  Depression   Anxiety  \\\n",
              "Gender          1.000000 -0.002291       -0.069389   -0.143235  0.059783   \n",
              "Age            -0.002291  1.000000        0.104452   -0.071980 -0.093423   \n",
              "Marital status -0.069389  0.104452        1.000000    0.595784  0.092606   \n",
              "Depression     -0.143235 -0.071980        0.595784    1.000000  0.273764   \n",
              "Anxiety         0.059783 -0.093423        0.092606    0.273764  1.000000   \n",
              "Panic Attack   -0.023902  0.055606        0.275909    0.246842  0.084478   \n",
              "Treatment      -0.052168  0.047793        0.349819    0.345105  0.086880   \n",
              "\n",
              "                Panic Attack  Treatment  \n",
              "Gender             -0.023902  -0.052168  \n",
              "Age                 0.055606   0.047793  \n",
              "Marital status      0.275909   0.349819  \n",
              "Depression          0.246842   0.345105  \n",
              "Anxiety             0.084478   0.086880  \n",
              "Panic Attack        1.000000   0.182145  \n",
              "Treatment           0.182145   1.000000  "
            ],
            "text/html": [
              "\n",
              "  <div id=\"df-42d64dfa-6142-4fc9-a09d-366ff6778dd5\">\n",
              "    <div class=\"colab-df-container\">\n",
              "      <div>\n",
              "<style scoped>\n",
              "    .dataframe tbody tr th:only-of-type {\n",
              "        vertical-align: middle;\n",
              "    }\n",
              "\n",
              "    .dataframe tbody tr th {\n",
              "        vertical-align: top;\n",
              "    }\n",
              "\n",
              "    .dataframe thead th {\n",
              "        text-align: right;\n",
              "    }\n",
              "</style>\n",
              "<table border=\"1\" class=\"dataframe\">\n",
              "  <thead>\n",
              "    <tr style=\"text-align: right;\">\n",
              "      <th></th>\n",
              "      <th>Gender</th>\n",
              "      <th>Age</th>\n",
              "      <th>Marital status</th>\n",
              "      <th>Depression</th>\n",
              "      <th>Anxiety</th>\n",
              "      <th>Panic Attack</th>\n",
              "      <th>Treatment</th>\n",
              "    </tr>\n",
              "  </thead>\n",
              "  <tbody>\n",
              "    <tr>\n",
              "      <th>Gender</th>\n",
              "      <td>1.000000</td>\n",
              "      <td>-0.002291</td>\n",
              "      <td>-0.069389</td>\n",
              "      <td>-0.143235</td>\n",
              "      <td>0.059783</td>\n",
              "      <td>-0.023902</td>\n",
              "      <td>-0.052168</td>\n",
              "    </tr>\n",
              "    <tr>\n",
              "      <th>Age</th>\n",
              "      <td>-0.002291</td>\n",
              "      <td>1.000000</td>\n",
              "      <td>0.104452</td>\n",
              "      <td>-0.071980</td>\n",
              "      <td>-0.093423</td>\n",
              "      <td>0.055606</td>\n",
              "      <td>0.047793</td>\n",
              "    </tr>\n",
              "    <tr>\n",
              "      <th>Marital status</th>\n",
              "      <td>-0.069389</td>\n",
              "      <td>0.104452</td>\n",
              "      <td>1.000000</td>\n",
              "      <td>0.595784</td>\n",
              "      <td>0.092606</td>\n",
              "      <td>0.275909</td>\n",
              "      <td>0.349819</td>\n",
              "    </tr>\n",
              "    <tr>\n",
              "      <th>Depression</th>\n",
              "      <td>-0.143235</td>\n",
              "      <td>-0.071980</td>\n",
              "      <td>0.595784</td>\n",
              "      <td>1.000000</td>\n",
              "      <td>0.273764</td>\n",
              "      <td>0.246842</td>\n",
              "      <td>0.345105</td>\n",
              "    </tr>\n",
              "    <tr>\n",
              "      <th>Anxiety</th>\n",
              "      <td>0.059783</td>\n",
              "      <td>-0.093423</td>\n",
              "      <td>0.092606</td>\n",
              "      <td>0.273764</td>\n",
              "      <td>1.000000</td>\n",
              "      <td>0.084478</td>\n",
              "      <td>0.086880</td>\n",
              "    </tr>\n",
              "    <tr>\n",
              "      <th>Panic Attack</th>\n",
              "      <td>-0.023902</td>\n",
              "      <td>0.055606</td>\n",
              "      <td>0.275909</td>\n",
              "      <td>0.246842</td>\n",
              "      <td>0.084478</td>\n",
              "      <td>1.000000</td>\n",
              "      <td>0.182145</td>\n",
              "    </tr>\n",
              "    <tr>\n",
              "      <th>Treatment</th>\n",
              "      <td>-0.052168</td>\n",
              "      <td>0.047793</td>\n",
              "      <td>0.349819</td>\n",
              "      <td>0.345105</td>\n",
              "      <td>0.086880</td>\n",
              "      <td>0.182145</td>\n",
              "      <td>1.000000</td>\n",
              "    </tr>\n",
              "  </tbody>\n",
              "</table>\n",
              "</div>\n",
              "      <button class=\"colab-df-convert\" onclick=\"convertToInteractive('df-42d64dfa-6142-4fc9-a09d-366ff6778dd5')\"\n",
              "              title=\"Convert this dataframe to an interactive table.\"\n",
              "              style=\"display:none;\">\n",
              "        \n",
              "  <svg xmlns=\"http://www.w3.org/2000/svg\" height=\"24px\"viewBox=\"0 0 24 24\"\n",
              "       width=\"24px\">\n",
              "    <path d=\"M0 0h24v24H0V0z\" fill=\"none\"/>\n",
              "    <path d=\"M18.56 5.44l.94 2.06.94-2.06 2.06-.94-2.06-.94-.94-2.06-.94 2.06-2.06.94zm-11 1L8.5 8.5l.94-2.06 2.06-.94-2.06-.94L8.5 2.5l-.94 2.06-2.06.94zm10 10l.94 2.06.94-2.06 2.06-.94-2.06-.94-.94-2.06-.94 2.06-2.06.94z\"/><path d=\"M17.41 7.96l-1.37-1.37c-.4-.4-.92-.59-1.43-.59-.52 0-1.04.2-1.43.59L10.3 9.45l-7.72 7.72c-.78.78-.78 2.05 0 2.83L4 21.41c.39.39.9.59 1.41.59.51 0 1.02-.2 1.41-.59l7.78-7.78 2.81-2.81c.8-.78.8-2.07 0-2.86zM5.41 20L4 18.59l7.72-7.72 1.47 1.35L5.41 20z\"/>\n",
              "  </svg>\n",
              "      </button>\n",
              "      \n",
              "  <style>\n",
              "    .colab-df-container {\n",
              "      display:flex;\n",
              "      flex-wrap:wrap;\n",
              "      gap: 12px;\n",
              "    }\n",
              "\n",
              "    .colab-df-convert {\n",
              "      background-color: #E8F0FE;\n",
              "      border: none;\n",
              "      border-radius: 50%;\n",
              "      cursor: pointer;\n",
              "      display: none;\n",
              "      fill: #1967D2;\n",
              "      height: 32px;\n",
              "      padding: 0 0 0 0;\n",
              "      width: 32px;\n",
              "    }\n",
              "\n",
              "    .colab-df-convert:hover {\n",
              "      background-color: #E2EBFA;\n",
              "      box-shadow: 0px 1px 2px rgba(60, 64, 67, 0.3), 0px 1px 3px 1px rgba(60, 64, 67, 0.15);\n",
              "      fill: #174EA6;\n",
              "    }\n",
              "\n",
              "    [theme=dark] .colab-df-convert {\n",
              "      background-color: #3B4455;\n",
              "      fill: #D2E3FC;\n",
              "    }\n",
              "\n",
              "    [theme=dark] .colab-df-convert:hover {\n",
              "      background-color: #434B5C;\n",
              "      box-shadow: 0px 1px 3px 1px rgba(0, 0, 0, 0.15);\n",
              "      filter: drop-shadow(0px 1px 2px rgba(0, 0, 0, 0.3));\n",
              "      fill: #FFFFFF;\n",
              "    }\n",
              "  </style>\n",
              "\n",
              "      <script>\n",
              "        const buttonEl =\n",
              "          document.querySelector('#df-42d64dfa-6142-4fc9-a09d-366ff6778dd5 button.colab-df-convert');\n",
              "        buttonEl.style.display =\n",
              "          google.colab.kernel.accessAllowed ? 'block' : 'none';\n",
              "\n",
              "        async function convertToInteractive(key) {\n",
              "          const element = document.querySelector('#df-42d64dfa-6142-4fc9-a09d-366ff6778dd5');\n",
              "          const dataTable =\n",
              "            await google.colab.kernel.invokeFunction('convertToInteractive',\n",
              "                                                     [key], {});\n",
              "          if (!dataTable) return;\n",
              "\n",
              "          const docLinkHtml = 'Like what you see? Visit the ' +\n",
              "            '<a target=\"_blank\" href=https://colab.research.google.com/notebooks/data_table.ipynb>data table notebook</a>'\n",
              "            + ' to learn more about interactive tables.';\n",
              "          element.innerHTML = '';\n",
              "          dataTable['output_type'] = 'display_data';\n",
              "          await google.colab.output.renderOutput(dataTable, element);\n",
              "          const docLink = document.createElement('div');\n",
              "          docLink.innerHTML = docLinkHtml;\n",
              "          element.appendChild(docLink);\n",
              "        }\n",
              "      </script>\n",
              "    </div>\n",
              "  </div>\n",
              "  "
            ]
          },
          "metadata": {},
          "execution_count": 21
        }
      ],
      "source": [
        "df.corr()"
      ]
    },
    {
      "cell_type": "code",
      "execution_count": null,
      "metadata": {
        "colab": {
          "base_uri": "https://localhost:8080/",
          "height": 300
        },
        "id": "soS9FCeLW9zT",
        "outputId": "4d498323-a03a-4ced-abd8-ca89aae3ef30"
      },
      "outputs": [
        {
          "output_type": "execute_result",
          "data": {
            "text/plain": [
              "           Gender         Age  Marital status  Depression     Anxiety  \\\n",
              "count  101.000000  101.000000      101.000000  101.000000  101.000000   \n",
              "mean     0.257426   20.530000        0.158416    0.346535    0.336634   \n",
              "std      0.439397    2.483767        0.366952    0.478239    0.474915   \n",
              "min      0.000000   18.000000        0.000000    0.000000    0.000000   \n",
              "25%      0.000000   18.000000        0.000000    0.000000    0.000000   \n",
              "50%      0.000000   19.000000        0.000000    0.000000    0.000000   \n",
              "75%      1.000000   23.000000        0.000000    1.000000    1.000000   \n",
              "max      1.000000   24.000000        1.000000    1.000000    1.000000   \n",
              "\n",
              "       Panic Attack   Treatment  \n",
              "count    101.000000  101.000000  \n",
              "mean       0.326733    0.059406  \n",
              "std        0.471358    0.237562  \n",
              "min        0.000000    0.000000  \n",
              "25%        0.000000    0.000000  \n",
              "50%        0.000000    0.000000  \n",
              "75%        1.000000    0.000000  \n",
              "max        1.000000    1.000000  "
            ],
            "text/html": [
              "\n",
              "  <div id=\"df-ba7dabf3-44cd-4b52-b056-6e3ea4387b96\">\n",
              "    <div class=\"colab-df-container\">\n",
              "      <div>\n",
              "<style scoped>\n",
              "    .dataframe tbody tr th:only-of-type {\n",
              "        vertical-align: middle;\n",
              "    }\n",
              "\n",
              "    .dataframe tbody tr th {\n",
              "        vertical-align: top;\n",
              "    }\n",
              "\n",
              "    .dataframe thead th {\n",
              "        text-align: right;\n",
              "    }\n",
              "</style>\n",
              "<table border=\"1\" class=\"dataframe\">\n",
              "  <thead>\n",
              "    <tr style=\"text-align: right;\">\n",
              "      <th></th>\n",
              "      <th>Gender</th>\n",
              "      <th>Age</th>\n",
              "      <th>Marital status</th>\n",
              "      <th>Depression</th>\n",
              "      <th>Anxiety</th>\n",
              "      <th>Panic Attack</th>\n",
              "      <th>Treatment</th>\n",
              "    </tr>\n",
              "  </thead>\n",
              "  <tbody>\n",
              "    <tr>\n",
              "      <th>count</th>\n",
              "      <td>101.000000</td>\n",
              "      <td>101.000000</td>\n",
              "      <td>101.000000</td>\n",
              "      <td>101.000000</td>\n",
              "      <td>101.000000</td>\n",
              "      <td>101.000000</td>\n",
              "      <td>101.000000</td>\n",
              "    </tr>\n",
              "    <tr>\n",
              "      <th>mean</th>\n",
              "      <td>0.257426</td>\n",
              "      <td>20.530000</td>\n",
              "      <td>0.158416</td>\n",
              "      <td>0.346535</td>\n",
              "      <td>0.336634</td>\n",
              "      <td>0.326733</td>\n",
              "      <td>0.059406</td>\n",
              "    </tr>\n",
              "    <tr>\n",
              "      <th>std</th>\n",
              "      <td>0.439397</td>\n",
              "      <td>2.483767</td>\n",
              "      <td>0.366952</td>\n",
              "      <td>0.478239</td>\n",
              "      <td>0.474915</td>\n",
              "      <td>0.471358</td>\n",
              "      <td>0.237562</td>\n",
              "    </tr>\n",
              "    <tr>\n",
              "      <th>min</th>\n",
              "      <td>0.000000</td>\n",
              "      <td>18.000000</td>\n",
              "      <td>0.000000</td>\n",
              "      <td>0.000000</td>\n",
              "      <td>0.000000</td>\n",
              "      <td>0.000000</td>\n",
              "      <td>0.000000</td>\n",
              "    </tr>\n",
              "    <tr>\n",
              "      <th>25%</th>\n",
              "      <td>0.000000</td>\n",
              "      <td>18.000000</td>\n",
              "      <td>0.000000</td>\n",
              "      <td>0.000000</td>\n",
              "      <td>0.000000</td>\n",
              "      <td>0.000000</td>\n",
              "      <td>0.000000</td>\n",
              "    </tr>\n",
              "    <tr>\n",
              "      <th>50%</th>\n",
              "      <td>0.000000</td>\n",
              "      <td>19.000000</td>\n",
              "      <td>0.000000</td>\n",
              "      <td>0.000000</td>\n",
              "      <td>0.000000</td>\n",
              "      <td>0.000000</td>\n",
              "      <td>0.000000</td>\n",
              "    </tr>\n",
              "    <tr>\n",
              "      <th>75%</th>\n",
              "      <td>1.000000</td>\n",
              "      <td>23.000000</td>\n",
              "      <td>0.000000</td>\n",
              "      <td>1.000000</td>\n",
              "      <td>1.000000</td>\n",
              "      <td>1.000000</td>\n",
              "      <td>0.000000</td>\n",
              "    </tr>\n",
              "    <tr>\n",
              "      <th>max</th>\n",
              "      <td>1.000000</td>\n",
              "      <td>24.000000</td>\n",
              "      <td>1.000000</td>\n",
              "      <td>1.000000</td>\n",
              "      <td>1.000000</td>\n",
              "      <td>1.000000</td>\n",
              "      <td>1.000000</td>\n",
              "    </tr>\n",
              "  </tbody>\n",
              "</table>\n",
              "</div>\n",
              "      <button class=\"colab-df-convert\" onclick=\"convertToInteractive('df-ba7dabf3-44cd-4b52-b056-6e3ea4387b96')\"\n",
              "              title=\"Convert this dataframe to an interactive table.\"\n",
              "              style=\"display:none;\">\n",
              "        \n",
              "  <svg xmlns=\"http://www.w3.org/2000/svg\" height=\"24px\"viewBox=\"0 0 24 24\"\n",
              "       width=\"24px\">\n",
              "    <path d=\"M0 0h24v24H0V0z\" fill=\"none\"/>\n",
              "    <path d=\"M18.56 5.44l.94 2.06.94-2.06 2.06-.94-2.06-.94-.94-2.06-.94 2.06-2.06.94zm-11 1L8.5 8.5l.94-2.06 2.06-.94-2.06-.94L8.5 2.5l-.94 2.06-2.06.94zm10 10l.94 2.06.94-2.06 2.06-.94-2.06-.94-.94-2.06-.94 2.06-2.06.94z\"/><path d=\"M17.41 7.96l-1.37-1.37c-.4-.4-.92-.59-1.43-.59-.52 0-1.04.2-1.43.59L10.3 9.45l-7.72 7.72c-.78.78-.78 2.05 0 2.83L4 21.41c.39.39.9.59 1.41.59.51 0 1.02-.2 1.41-.59l7.78-7.78 2.81-2.81c.8-.78.8-2.07 0-2.86zM5.41 20L4 18.59l7.72-7.72 1.47 1.35L5.41 20z\"/>\n",
              "  </svg>\n",
              "      </button>\n",
              "      \n",
              "  <style>\n",
              "    .colab-df-container {\n",
              "      display:flex;\n",
              "      flex-wrap:wrap;\n",
              "      gap: 12px;\n",
              "    }\n",
              "\n",
              "    .colab-df-convert {\n",
              "      background-color: #E8F0FE;\n",
              "      border: none;\n",
              "      border-radius: 50%;\n",
              "      cursor: pointer;\n",
              "      display: none;\n",
              "      fill: #1967D2;\n",
              "      height: 32px;\n",
              "      padding: 0 0 0 0;\n",
              "      width: 32px;\n",
              "    }\n",
              "\n",
              "    .colab-df-convert:hover {\n",
              "      background-color: #E2EBFA;\n",
              "      box-shadow: 0px 1px 2px rgba(60, 64, 67, 0.3), 0px 1px 3px 1px rgba(60, 64, 67, 0.15);\n",
              "      fill: #174EA6;\n",
              "    }\n",
              "\n",
              "    [theme=dark] .colab-df-convert {\n",
              "      background-color: #3B4455;\n",
              "      fill: #D2E3FC;\n",
              "    }\n",
              "\n",
              "    [theme=dark] .colab-df-convert:hover {\n",
              "      background-color: #434B5C;\n",
              "      box-shadow: 0px 1px 3px 1px rgba(0, 0, 0, 0.15);\n",
              "      filter: drop-shadow(0px 1px 2px rgba(0, 0, 0, 0.3));\n",
              "      fill: #FFFFFF;\n",
              "    }\n",
              "  </style>\n",
              "\n",
              "      <script>\n",
              "        const buttonEl =\n",
              "          document.querySelector('#df-ba7dabf3-44cd-4b52-b056-6e3ea4387b96 button.colab-df-convert');\n",
              "        buttonEl.style.display =\n",
              "          google.colab.kernel.accessAllowed ? 'block' : 'none';\n",
              "\n",
              "        async function convertToInteractive(key) {\n",
              "          const element = document.querySelector('#df-ba7dabf3-44cd-4b52-b056-6e3ea4387b96');\n",
              "          const dataTable =\n",
              "            await google.colab.kernel.invokeFunction('convertToInteractive',\n",
              "                                                     [key], {});\n",
              "          if (!dataTable) return;\n",
              "\n",
              "          const docLinkHtml = 'Like what you see? Visit the ' +\n",
              "            '<a target=\"_blank\" href=https://colab.research.google.com/notebooks/data_table.ipynb>data table notebook</a>'\n",
              "            + ' to learn more about interactive tables.';\n",
              "          element.innerHTML = '';\n",
              "          dataTable['output_type'] = 'display_data';\n",
              "          await google.colab.output.renderOutput(dataTable, element);\n",
              "          const docLink = document.createElement('div');\n",
              "          docLink.innerHTML = docLinkHtml;\n",
              "          element.appendChild(docLink);\n",
              "        }\n",
              "      </script>\n",
              "    </div>\n",
              "  </div>\n",
              "  "
            ]
          },
          "metadata": {},
          "execution_count": 22
        }
      ],
      "source": [
        "df.describe()"
      ]
    },
    {
      "cell_type": "code",
      "execution_count": null,
      "metadata": {
        "colab": {
          "base_uri": "https://localhost:8080/"
        },
        "id": "sYLBdOTuX8UV",
        "outputId": "f1795bdf-6bb8-4b9b-b655-9eaab771dabb"
      },
      "outputs": [
        {
          "output_type": "stream",
          "name": "stderr",
          "text": [
            "/usr/local/lib/python3.7/dist-packages/ipykernel_launcher.py:1: FutureWarning: Dropping of nuisance columns in DataFrame reductions (with 'numeric_only=None') is deprecated; in a future version this will raise TypeError.  Select only valid columns before calling the reduction.\n",
            "  \"\"\"Entry point for launching an IPython kernel.\n"
          ]
        },
        {
          "output_type": "execute_result",
          "data": {
            "text/plain": [
              "Gender             0.257426\n",
              "Age               20.530000\n",
              "Marital status     0.158416\n",
              "Depression         0.346535\n",
              "Anxiety            0.336634\n",
              "Panic Attack       0.326733\n",
              "Treatment          0.059406\n",
              "dtype: float64"
            ]
          },
          "metadata": {},
          "execution_count": 23
        }
      ],
      "source": [
        "df.mean()"
      ]
    },
    {
      "cell_type": "code",
      "execution_count": null,
      "metadata": {
        "colab": {
          "base_uri": "https://localhost:8080/"
        },
        "id": "IHT9g-7Kue0P",
        "outputId": "e4364b13-0251-4331-ee5e-657a3c01b0d6"
      },
      "outputs": [
        {
          "output_type": "stream",
          "name": "stderr",
          "text": [
            "/usr/local/lib/python3.7/dist-packages/ipykernel_launcher.py:1: FutureWarning: Dropping of nuisance columns in DataFrame reductions (with 'numeric_only=None') is deprecated; in a future version this will raise TypeError.  Select only valid columns before calling the reduction.\n",
            "  \"\"\"Entry point for launching an IPython kernel.\n"
          ]
        },
        {
          "output_type": "execute_result",
          "data": {
            "text/plain": [
              "Gender             0.0\n",
              "Age               19.0\n",
              "Study Year         2.0\n",
              "Marital status     0.0\n",
              "Depression         0.0\n",
              "Anxiety            0.0\n",
              "Panic Attack       0.0\n",
              "Treatment          0.0\n",
              "dtype: float64"
            ]
          },
          "metadata": {},
          "execution_count": 24
        }
      ],
      "source": [
        "df.median()"
      ]
    },
    {
      "cell_type": "code",
      "execution_count": null,
      "metadata": {
        "id": "XQj3WSl_vBDU"
      },
      "outputs": [],
      "source": []
    },
    {
      "cell_type": "code",
      "execution_count": null,
      "metadata": {
        "colab": {
          "base_uri": "https://localhost:8080/"
        },
        "id": "lQkIc3UHmmrR",
        "outputId": "08c21b73-f4ae-4df4-cf5d-5bd181f325cf"
      },
      "outputs": [
        {
          "output_type": "stream",
          "name": "stderr",
          "text": [
            "/usr/local/lib/python3.7/dist-packages/ipykernel_launcher.py:2: FutureWarning: Dropping of nuisance columns in DataFrame reductions (with 'numeric_only=None') is deprecated; in a future version this will raise TypeError.  Select only valid columns before calling the reduction.\n",
            "  \n"
          ]
        },
        {
          "output_type": "execute_result",
          "data": {
            "text/plain": [
              "Gender            1.126430\n",
              "Age               0.378999\n",
              "Study Year        0.558130\n",
              "Marital status    1.899351\n",
              "Depression        0.654759\n",
              "Anxiety           0.701880\n",
              "Panic Attack      0.750036\n",
              "Treatment         3.784235\n",
              "dtype: float64"
            ]
          },
          "metadata": {},
          "execution_count": 25
        }
      ],
      "source": [
        "#Checking skewness\n",
        "df.skew()"
      ]
    },
    {
      "cell_type": "code",
      "execution_count": null,
      "metadata": {
        "colab": {
          "base_uri": "https://localhost:8080/"
        },
        "id": "1T7KTZ_imczg",
        "outputId": "595774c0-2fd4-4eeb-864c-3abf493abe05"
      },
      "outputs": [
        {
          "output_type": "stream",
          "name": "stderr",
          "text": [
            "/usr/local/lib/python3.7/dist-packages/ipykernel_launcher.py:2: FutureWarning: Dropping of nuisance columns in DataFrame reductions (with 'numeric_only=None') is deprecated; in a future version this will raise TypeError.  Select only valid columns before calling the reduction.\n",
            "  \n"
          ]
        },
        {
          "output_type": "execute_result",
          "data": {
            "text/plain": [
              "Gender            -0.746333\n",
              "Age               -1.626067\n",
              "Study Year        -0.911988\n",
              "Marital status     1.639610\n",
              "Depression        -1.603445\n",
              "Anxiety           -1.538227\n",
              "Panic Attack      -1.466895\n",
              "Treatment         12.568977\n",
              "dtype: float64"
            ]
          },
          "metadata": {},
          "execution_count": 26
        }
      ],
      "source": [
        "#Checking kurtosis\n",
        "df.kurtosis()"
      ]
    },
    {
      "cell_type": "markdown",
      "source": [
        "**Investigating Correlated Variables**"
      ],
      "metadata": {
        "id": "oQw7luxzhwJO"
      }
    },
    {
      "cell_type": "code",
      "execution_count": null,
      "metadata": {
        "colab": {
          "base_uri": "https://localhost:8080/",
          "height": 487
        },
        "id": "YALSUxxym9cx",
        "outputId": "afcc05f2-448e-4fc1-c5af-063f05f45adf"
      },
      "outputs": [
        {
          "output_type": "display_data",
          "data": {
            "text/plain": [
              "<Figure size 1152x576 with 2 Axes>"
            ],
            "image/png": "[encoded data removed]"
          },
          "metadata": {
            "needs_background": "light"
          }
        }
      ],
      "source": [
        "#Generating Heatmap\n",
        "correlation = df.corr()\n",
        "plt.figure(figsize=(16, 8))\n",
        "sns.heatmap(correlation, annot=True, linewidths=0, vmin=-1, cmap=\"RdBu_r\")\n",
        "plt.show()"
      ]
    },
    {
      "cell_type": "code",
      "execution_count": null,
      "metadata": {
        "colab": {
          "base_uri": "https://localhost:8080/"
        },
        "id": "D2zpMCwl1dEn",
        "outputId": "3e3243b4-6ae1-4079-d540-3bc1403eba15"
      },
      "outputs": [
        {
          "output_type": "execute_result",
          "data": {
            "text/plain": [
              "Marital status\n",
              "0    0.0\n",
              "1    1.0\n",
              "Name: Depression, dtype: float64"
            ]
          },
          "metadata": {},
          "execution_count": 28
        }
      ],
      "source": [
        "#marital status wise parameter checking\n",
        "M=df.groupby('Marital status')['Depression'].median()\n",
        "\n",
        "#sns.distplot(depression)\n",
        "M"
      ]
    },
    {
      "cell_type": "code",
      "execution_count": null,
      "metadata": {
        "colab": {
          "base_uri": "https://localhost:8080/",
          "height": 351
        },
        "id": "tQ0nsZn-3LWC",
        "outputId": "77e0b7f9-b6a0-4e92-ac57-587a73348c61"
      },
      "outputs": [
        {
          "name": "stderr",
          "output_type": "stream",
          "text": [
            "/usr/local/lib/python3.7/dist-packages/seaborn/distributions.py:2619: FutureWarning: `distplot` is a deprecated function and will be removed in a future version. Please adapt your code to use either `displot` (a figure-level function with similar flexibility) or `histplot` (an axes-level function for histograms).\n",
            "  warnings.warn(msg, FutureWarning)\n"
          ]
        },
        {
          "data": {
            "text/plain": [
              "<matplotlib.axes._subplots.AxesSubplot at 0x7f0992f77ed0>"
            ]
          },
          "execution_count": 467,
          "metadata": {},
          "output_type": "execute_result"
        },
        {
          "data": {
            "image/png": "[encoded data removed]",
            "text/plain": [
              "<Figure size 432x288 with 1 Axes>"
            ]
          },
          "metadata": {},
          "output_type": "display_data"
        }
      ],
      "source": [
        "#month wise distribution\n",
        "sns.distplot(M)"
      ]
    },
    {
      "cell_type": "code",
      "execution_count": null,
      "metadata": {
        "id": "hK1PgMenzzH9"
      },
      "outputs": [],
      "source": []
    },
    {
      "cell_type": "code",
      "execution_count": null,
      "metadata": {
        "colab": {
          "base_uri": "https://localhost:8080/"
        },
        "id": "IxqIiozxzzYS",
        "outputId": "133d98be-9e8f-4741-b4b0-adbf136f4b4b"
      },
      "outputs": [
        {
          "data": {
            "text/plain": [
              "Age\n",
              "20.00    0.500000\n",
              "22.00    0.500000\n",
              "19.00    0.428571\n",
              "23.00    0.384615\n",
              "18.00    0.343750\n",
              "24.00    0.260870\n",
              "20.53    0.000000\n",
              "21.00    0.000000\n",
              "Name: Depression, dtype: float64"
            ]
          },
          "execution_count": 468,
          "metadata": {},
          "output_type": "execute_result"
        }
      ],
      "source": [
        "#marital status wise parameter checking\n",
        "G=df.groupby('Age')['Depression'].mean().sort_values(ascending=False)\n",
        "\n",
        "#sns.distplot(depression)\n",
        "G\n"
      ]
    },
    {
      "cell_type": "code",
      "execution_count": null,
      "metadata": {
        "id": "aZPS9p_B0LLc"
      },
      "outputs": [],
      "source": []
    },
    {
      "cell_type": "code",
      "execution_count": null,
      "metadata": {
        "colab": {
          "base_uri": "https://localhost:8080/",
          "height": 351
        },
        "id": "pRwbN-ln0LhA",
        "outputId": "e872c312-1bac-4a36-a7d3-06bd4e51c664"
      },
      "outputs": [
        {
          "name": "stderr",
          "output_type": "stream",
          "text": [
            "/usr/local/lib/python3.7/dist-packages/seaborn/distributions.py:2619: FutureWarning: `distplot` is a deprecated function and will be removed in a future version. Please adapt your code to use either `displot` (a figure-level function with similar flexibility) or `histplot` (an axes-level function for histograms).\n",
            "  warnings.warn(msg, FutureWarning)\n"
          ]
        },
        {
          "data": {
            "text/plain": [
              "<matplotlib.axes._subplots.AxesSubplot at 0x7f09931d5dd0>"
            ]
          },
          "execution_count": 469,
          "metadata": {},
          "output_type": "execute_result"
        },
        {
          "data": {
            "image/png": "[encoded data removed]",
            "text/plain": [
              "<Figure size 432x288 with 1 Axes>"
            ]
          },
          "metadata": {},
          "output_type": "display_data"
        }
      ],
      "source": [
        "#month wise distribution\n",
        "sns.distplot(G)"
      ]
    },
    {
      "cell_type": "code",
      "execution_count": null,
      "metadata": {
        "id": "3jD1zokb2CW_"
      },
      "outputs": [],
      "source": []
    },
    {
      "cell_type": "code",
      "execution_count": null,
      "metadata": {
        "colab": {
          "base_uri": "https://localhost:8080/"
        },
        "id": "x5wdifnZ2Cl5",
        "outputId": "b3b1a15c-c1cd-4d56-bcbb-df5185db0aef"
      },
      "outputs": [
        {
          "data": {
            "text/plain": [
              "Study Year\n",
              " 3    0.416667\n",
              " 1    0.325581\n",
              " 2    0.307692\n",
              " 4    0.125000\n",
              "Name: Panic Attack, dtype: float64"
            ]
          },
          "execution_count": 470,
          "metadata": {},
          "output_type": "execute_result"
        }
      ],
      "source": [
        "#marital status wise parameter checking\n",
        "S=df.groupby('Study Year')['Panic Attack'].mean().sort_values(ascending=False)\n",
        "\n",
        "#sns.distplot(Panic Attack)\n",
        "S\n"
      ]
    },
    {
      "cell_type": "code",
      "execution_count": null,
      "metadata": {
        "colab": {
          "base_uri": "https://localhost:8080/",
          "height": 351
        },
        "id": "oylie9ee4Jh-",
        "outputId": "d1d66a01-5142-4cbd-f936-46962703f96d"
      },
      "outputs": [
        {
          "name": "stderr",
          "output_type": "stream",
          "text": [
            "/usr/local/lib/python3.7/dist-packages/seaborn/distributions.py:2619: FutureWarning: `distplot` is a deprecated function and will be removed in a future version. Please adapt your code to use either `displot` (a figure-level function with similar flexibility) or `histplot` (an axes-level function for histograms).\n",
            "  warnings.warn(msg, FutureWarning)\n"
          ]
        },
        {
          "data": {
            "text/plain": [
              "<matplotlib.axes._subplots.AxesSubplot at 0x7f0992f78c90>"
            ]
          },
          "execution_count": 471,
          "metadata": {},
          "output_type": "execute_result"
        },
        {
          "data": {
            "image/png": "[encoded data removed]",
            "text/plain": [
              "<Figure size 432x288 with 1 Axes>"
            ]
          },
          "metadata": {},
          "output_type": "display_data"
        }
      ],
      "source": [
        "#month wise distribution\n",
        "sns.distplot(S)\n"
      ]
    },
    {
      "cell_type": "code",
      "execution_count": null,
      "metadata": {
        "colab": {
          "base_uri": "https://localhost:8080/"
        },
        "id": "9APrR9WU494R",
        "outputId": "b417b6b7-0824-48a7-f392-9741ac532a5e"
      },
      "outputs": [
        {
          "data": {
            "text/plain": [
              "CGPA\n",
              "2.50 - 2.99    0.750000\n",
              "3.00 - 3.49    0.441860\n",
              "3.50 - 4.00    0.270833\n",
              "0 - 1.99       0.000000\n",
              "2.00 - 2.49    0.000000\n",
              "Name: Depression, dtype: float64"
            ]
          },
          "execution_count": 472,
          "metadata": {},
          "output_type": "execute_result"
        }
      ],
      "source": [
        "#marital status wise parameter checking\n",
        "C=df.groupby('CGPA')['Depression'].mean().sort_values(ascending=False)\n",
        "\n",
        "#sns.distplot(depression)\n",
        "C\n"
      ]
    },
    {
      "cell_type": "code",
      "execution_count": null,
      "metadata": {
        "colab": {
          "base_uri": "https://localhost:8080/",
          "height": 351
        },
        "id": "bcsL75Gj5IfV",
        "outputId": "705bc650-06b8-4790-84f4-e0e43e655cfc"
      },
      "outputs": [
        {
          "name": "stderr",
          "output_type": "stream",
          "text": [
            "/usr/local/lib/python3.7/dist-packages/seaborn/distributions.py:2619: FutureWarning: `distplot` is a deprecated function and will be removed in a future version. Please adapt your code to use either `displot` (a figure-level function with similar flexibility) or `histplot` (an axes-level function for histograms).\n",
            "  warnings.warn(msg, FutureWarning)\n"
          ]
        },
        {
          "data": {
            "text/plain": [
              "<matplotlib.axes._subplots.AxesSubplot at 0x7f0993164950>"
            ]
          },
          "execution_count": 473,
          "metadata": {},
          "output_type": "execute_result"
        },
        {
          "data": {
            "image/png": "[encoded data removed]",
            "text/plain": [
              "<Figure size 432x288 with 1 Axes>"
            ]
          },
          "metadata": {},
          "output_type": "display_data"
        }
      ],
      "source": [
        "#CGPA wise distribution\n",
        "sns.distplot(C)\n"
      ]
    },
    {
      "cell_type": "markdown",
      "source": [
        "**Boxplot**"
      ],
      "metadata": {
        "id": "7Jbz3qlmh52I"
      }
    },
    {
      "cell_type": "code",
      "execution_count": null,
      "metadata": {
        "colab": {
          "base_uri": "https://localhost:8080/",
          "height": 374
        },
        "id": "3KO4DwvQnHip",
        "outputId": "18007e0e-4a71-48c9-cea5-13f31d2d7005"
      },
      "outputs": [
        {
          "output_type": "display_data",
          "data": {
            "text/plain": [
              "<Figure size 1152x432 with 1 Axes>"
            ],
            "image/png": "[encoded data removed]"
          },
          "metadata": {
            "needs_background": "light"
          }
        }
      ],
      "source": [
        "#Visualizing Boxplot\n",
        "plt.figure(figsize=(16, 6))\n",
        "ax = sns.boxplot(data=df, orient=\"h\", palette=\"Set2\")"
      ]
    },
    {
      "cell_type": "code",
      "execution_count": null,
      "metadata": {
        "colab": {
          "base_uri": "https://localhost:8080/",
          "height": 279
        },
        "id": "ijfCHWu1ngRh",
        "outputId": "8d540201-d40c-4bfd-fdcf-834d967dbbe3"
      },
      "outputs": [
        {
          "data": {
            "image/png": "[encoded data removed]",
            "text/plain": [
              "<Figure size 432x288 with 1 Axes>"
            ]
          },
          "metadata": {},
          "output_type": "display_data"
        }
      ],
      "source": [
        "ax = sns.boxplot(x=df[\"Depression\"])"
      ]
    },
    {
      "cell_type": "code",
      "execution_count": null,
      "metadata": {
        "id": "tczP2zwh5sts",
        "colab": {
          "base_uri": "https://localhost:8080/",
          "height": 279
        },
        "outputId": "9646e860-cacb-40aa-bab7-982d2300d504"
      },
      "outputs": [
        {
          "output_type": "display_data",
          "data": {
            "text/plain": [
              "<Figure size 432x288 with 1 Axes>"
            ],
            "image/png": "[encoded data removed]"
          },
          "metadata": {
            "needs_background": "light"
          }
        }
      ],
      "source": [
        "ax = sns.boxplot(x=df[\"Treatment\"])"
      ]
    },
    {
      "cell_type": "code",
      "execution_count": null,
      "metadata": {
        "colab": {
          "base_uri": "https://localhost:8080/",
          "height": 279
        },
        "id": "g1PX-XPG5s9j",
        "outputId": "f6e35f3b-6f6b-4f46-9e81-68f7e5cafc39"
      },
      "outputs": [
        {
          "data": {
            "image/png": "[encoded data removed]",
            "text/plain": [
              "<Figure size 432x288 with 1 Axes>"
            ]
          },
          "metadata": {},
          "output_type": "display_data"
        }
      ],
      "source": [
        "ax = sns.boxplot(x=df[\"Marital status\"])"
      ]
    },
    {
      "cell_type": "code",
      "execution_count": null,
      "metadata": {
        "colab": {
          "base_uri": "https://localhost:8080/",
          "height": 279
        },
        "id": "SZH3Dx_65z5W",
        "outputId": "be4f174b-0dd2-4ede-813d-651940368417"
      },
      "outputs": [
        {
          "data": {
            "image/png": "[encoded data removed]",
            "text/plain": [
              "<Figure size 432x288 with 1 Axes>"
            ]
          },
          "metadata": {},
          "output_type": "display_data"
        }
      ],
      "source": [
        "ax = sns.boxplot(x=df[\"Age\"])"
      ]
    },
    {
      "cell_type": "code",
      "execution_count": null,
      "metadata": {
        "colab": {
          "base_uri": "https://localhost:8080/",
          "height": 279
        },
        "id": "w5VQMGQPpQq7",
        "outputId": "5ade71f1-d76b-44e9-f4e3-7323fb547a27"
      },
      "outputs": [
        {
          "output_type": "display_data",
          "data": {
            "text/plain": [
              "<Figure size 432x288 with 1 Axes>"
            ],
            "image/png": "[encoded data removed]"
          },
          "metadata": {
            "needs_background": "light"
          }
        }
      ],
      "source": [
        "\n",
        "ax = sns.boxplot(x=\"Treatment\", y=\"Depression\",palette=\"bwr\", data=df)"
      ]
    },
    {
      "cell_type": "code",
      "execution_count": null,
      "metadata": {
        "colab": {
          "base_uri": "https://localhost:8080/",
          "height": 279
        },
        "id": "6FNEC_d59ICb",
        "outputId": "465b71ac-5d91-46cb-f266-c4daefc152aa"
      },
      "outputs": [
        {
          "output_type": "display_data",
          "data": {
            "text/plain": [
              "<Figure size 432x288 with 1 Axes>"
            ],
            "image/png": "[encoded data removed]"
          },
          "metadata": {
            "needs_background": "light"
          }
        }
      ],
      "source": [
        "\n",
        "ax = sns.boxplot(x=\"Treatment\", y=\"Panic Attack\", palette=\"bwr\",data=df)"
      ]
    },
    {
      "cell_type": "code",
      "execution_count": null,
      "metadata": {
        "colab": {
          "base_uri": "https://localhost:8080/",
          "height": 279
        },
        "id": "RFahyHCr9lTP",
        "outputId": "7fdf4717-8218-4e7a-83b9-8413f2af4e95"
      },
      "outputs": [
        {
          "output_type": "display_data",
          "data": {
            "text/plain": [
              "<Figure size 432x288 with 1 Axes>"
            ],
            "image/png": "[encoded data removed]"
          },
          "metadata": {
            "needs_background": "light"
          }
        }
      ],
      "source": [
        "\n",
        "ax = sns.boxplot(x=\"Treatment\", y=\"Marital status\",palette=\"bwr\", data=df)"
      ]
    },
    {
      "cell_type": "code",
      "execution_count": null,
      "metadata": {
        "colab": {
          "base_uri": "https://localhost:8080/",
          "height": 279
        },
        "id": "rVu8awfr-i8R",
        "outputId": "32653353-2a15-448e-d120-e1245d8963a1"
      },
      "outputs": [
        {
          "output_type": "display_data",
          "data": {
            "text/plain": [
              "<Figure size 432x288 with 1 Axes>"
            ],
            "image/png": "[encoded data removed]"
          },
          "metadata": {
            "needs_background": "light"
          }
        }
      ],
      "source": [
        "\n",
        "ax = sns.boxplot(x=\"Treatment\", y=\"Age\",palette=\"bwr\", data=df)"
      ]
    },
    {
      "cell_type": "code",
      "execution_count": null,
      "metadata": {
        "colab": {
          "base_uri": "https://localhost:8080/",
          "height": 279
        },
        "id": "qCAK54A7-qER",
        "outputId": "94798220-2d0c-443e-ce04-fdd816eb4fdf"
      },
      "outputs": [
        {
          "data": {
            "image/png": "[encoded data removed]",
            "text/plain": [
              "<Figure size 432x288 with 1 Axes>"
            ]
          },
          "metadata": {},
          "output_type": "display_data"
        }
      ],
      "source": [
        "\n",
        "ax = sns.boxplot(x=\"Study Year\", y=\"Depression\", palette=\"bwr\",data=df)"
      ]
    },
    {
      "cell_type": "code",
      "execution_count": null,
      "metadata": {
        "colab": {
          "base_uri": "https://localhost:8080/",
          "height": 279
        },
        "id": "e_O1ElSj--8J",
        "outputId": "76114802-6e94-451b-c125-920528ef9383"
      },
      "outputs": [
        {
          "output_type": "display_data",
          "data": {
            "text/plain": [
              "<Figure size 432x288 with 1 Axes>"
            ],
            "image/png": "[encoded data removed]"
          },
          "metadata": {
            "needs_background": "light"
          }
        }
      ],
      "source": [
        "\n",
        "ax = sns.boxplot(y=\"Anxiety\", x=\"Treatment\",palette=\"bwr\",data=df)"
      ]
    },
    {
      "cell_type": "markdown",
      "source": [
        "**Distribution of the whole dataset**"
      ],
      "metadata": {
        "id": "FL4p406Ah9hX"
      }
    },
    {
      "cell_type": "code",
      "execution_count": null,
      "metadata": {
        "colab": {
          "base_uri": "https://localhost:8080/",
          "height": 673
        },
        "id": "cU2QOIfurMJy",
        "outputId": "423b595a-a3d0-4f50-f346-580266f790cd"
      },
      "outputs": [
        {
          "data": {
            "text/plain": [
              "array([[<matplotlib.axes._subplots.AxesSubplot object at 0x7f0992c82190>,\n",
              "        <matplotlib.axes._subplots.AxesSubplot object at 0x7f0993082dd0>,\n",
              "        <matplotlib.axes._subplots.AxesSubplot object at 0x7f09974db990>],\n",
              "       [<matplotlib.axes._subplots.AxesSubplot object at 0x7f099466ced0>,\n",
              "        <matplotlib.axes._subplots.AxesSubplot object at 0x7f09974e9590>,\n",
              "        <matplotlib.axes._subplots.AxesSubplot object at 0x7f0993bb8d10>],\n",
              "       [<matplotlib.axes._subplots.AxesSubplot object at 0x7f099489e590>,\n",
              "        <matplotlib.axes._subplots.AxesSubplot object at 0x7f099756f090>,\n",
              "        <matplotlib.axes._subplots.AxesSubplot object at 0x7f099756f8d0>]],\n",
              "      dtype=object)"
            ]
          },
          "execution_count": 475,
          "metadata": {},
          "output_type": "execute_result"
        },
        {
          "data": {
            "image/png": "[encoded data removed]",
            "text/plain": [
              "<Figure size 720x576 with 9 Axes>"
            ]
          },
          "metadata": {},
          "output_type": "display_data"
        }
      ],
      "source": [
        "df.hist(figsize=(10,8))"
      ]
    },
    {
      "cell_type": "code",
      "execution_count": null,
      "metadata": {
        "colab": {
          "base_uri": "https://localhost:8080/"
        },
        "id": "Ucq-oPuwsZBW",
        "outputId": "59f122ad-13d4-456c-89a3-508fb351aef7"
      },
      "outputs": [
        {
          "data": {
            "text/plain": [
              "0    75\n",
              "1    26\n",
              "Name: Gender, dtype: int64"
            ]
          },
          "execution_count": 476,
          "metadata": {},
          "output_type": "execute_result"
        }
      ],
      "source": [
        "df['Gender'].value_counts()\n"
      ]
    },
    {
      "cell_type": "markdown",
      "source": [
        "**Gender Percentage**"
      ],
      "metadata": {
        "id": "Z6B6LQDDhgNr"
      }
    },
    {
      "cell_type": "code",
      "execution_count": null,
      "metadata": {
        "colab": {
          "base_uri": "https://localhost:8080/",
          "height": 319
        },
        "id": "AF3btAd-uhXm",
        "outputId": "4c3a89a9-223e-4f76-8423-6e1b2d9ed687"
      },
      "outputs": [
        {
          "data": {
            "image/png": "[encoded data removed]",
            "text/plain": [
              "<Figure size 1440x360 with 1 Axes>"
            ]
          },
          "metadata": {},
          "output_type": "display_data"
        }
      ],
      "source": [
        "List = ['Female','Male']\n",
        "plt.figure(figsize=(20,5))\n",
        "plt.title(\"Gender Percentage\")\n",
        "cl = ['grey','pink']\n",
        "plt.pie(df['Gender'].value_counts(),labels=List, autopct='%1.1f%%',radius=1 ,shadow =False ,colors= cl)\n",
        "plt.show()"
      ]
    },
    {
      "cell_type": "code",
      "execution_count": null,
      "metadata": {
        "colab": {
          "base_uri": "https://localhost:8080/"
        },
        "id": "6xzDzbUzv-6O",
        "outputId": "8e772aa0-0fc6-4cdf-b6c7-d2a4af3b9e24"
      },
      "outputs": [
        {
          "data": {
            "text/plain": [
              "0    66\n",
              "1    35\n",
              "Name: Depression, dtype: int64"
            ]
          },
          "execution_count": 478,
          "metadata": {},
          "output_type": "execute_result"
        }
      ],
      "source": [
        "df['Depression'].value_counts()"
      ]
    },
    {
      "cell_type": "markdown",
      "source": [
        "**Depression Percentage**"
      ],
      "metadata": {
        "id": "_uUCY8QciNpT"
      }
    },
    {
      "cell_type": "code",
      "execution_count": null,
      "metadata": {
        "colab": {
          "base_uri": "https://localhost:8080/",
          "height": 319
        },
        "id": "FfOIttl4wD4c",
        "outputId": "4c5e3fd7-c20c-415d-e33c-cc25c76d4384"
      },
      "outputs": [
        {
          "data": {
            "image/png": "[encoded data removed]",
            "text/plain": [
              "<Figure size 1440x360 with 1 Axes>"
            ]
          },
          "metadata": {},
          "output_type": "display_data"
        }
      ],
      "source": [
        "List = ['No','Yes']\n",
        "plt.figure(figsize=(20,5))\n",
        "plt.title(\"Depression Percentage\")\n",
        "cl = ['grey','pink']\n",
        "plt.pie(df['Depression'].value_counts(),labels=List, autopct='%1.1f%%',radius=1 ,shadow =False ,colors= cl)\n",
        "plt.show()"
      ]
    },
    {
      "cell_type": "markdown",
      "source": [
        "**Panic Attack Percentage**"
      ],
      "metadata": {
        "id": "O4iEDcf6iS__"
      }
    },
    {
      "cell_type": "code",
      "execution_count": null,
      "metadata": {
        "colab": {
          "base_uri": "https://localhost:8080/",
          "height": 319
        },
        "id": "nAog_1ZBwiom",
        "outputId": "3b78f574-3908-4e41-a34c-8a5f928ce218"
      },
      "outputs": [
        {
          "data": {
            "image/png": "[encoded data removed]",
            "text/plain": [
              "<Figure size 1440x360 with 1 Axes>"
            ]
          },
          "metadata": {},
          "output_type": "display_data"
        }
      ],
      "source": [
        "List = ['No','Yes']\n",
        "plt.figure(figsize=(20,5))\n",
        "plt.title(\"Panic Attack Percentage\")\n",
        "cl = ['grey','pink']\n",
        "plt.pie(df['Panic Attack'].value_counts(),labels=List, autopct='%1.1f%%',radius=1 ,shadow =False ,colors= cl)\n",
        "plt.show()"
      ]
    },
    {
      "cell_type": "code",
      "execution_count": null,
      "metadata": {
        "id": "EU1zAopXxQdK"
      },
      "outputs": [],
      "source": [
        "A = df.drop([ 'Gender','Panic Attack','Depression','Anxiety','CGPA','Course','Treatment','Timestamp','Marital status'], axis = 1)"
      ]
    },
    {
      "cell_type": "code",
      "execution_count": null,
      "metadata": {
        "id": "wnFVwnKAyIeN"
      },
      "outputs": [],
      "source": [
        "r = [18,19,25]\n",
        "g = ['Fresher','Senior']\n",
        "A['Age'] = pd.cut(A['Age'], bins=r, labels=g)"
      ]
    },
    {
      "cell_type": "markdown",
      "source": [
        "**Age distribution According to Senior & Fresher**"
      ],
      "metadata": {
        "id": "SUZMpksSid2O"
      }
    },
    {
      "cell_type": "code",
      "execution_count": null,
      "metadata": {
        "colab": {
          "base_uri": "https://localhost:8080/",
          "height": 497
        },
        "id": "zJu12tSwyOGm",
        "outputId": "c27cb94b-0baa-4cd3-fe05-8e701c5be241"
      },
      "outputs": [
        {
          "data": {
            "image/png": "[encoded data removed]",
            "text/plain": [
              "<Figure size 360x576 with 1 Axes>"
            ]
          },
          "metadata": {},
          "output_type": "display_data"
        }
      ],
      "source": [
        "plt.figure(figsize=(5,8))\n",
        "plt.xticks(rotation=0)\n",
        "plt.ylabel('Frequency')\n",
        "sns.countplot(x=\"Age\",palette=\"bwr\",data=A,)\n",
        "plt.show()\n"
      ]
    },
    {
      "cell_type": "markdown",
      "source": [
        "**Study Year Distribution with Depression**"
      ],
      "metadata": {
        "id": "U5PrJSBIiqrX"
      }
    },
    {
      "cell_type": "code",
      "execution_count": null,
      "metadata": {
        "colab": {
          "base_uri": "https://localhost:8080/",
          "height": 295
        },
        "id": "ZQYgsrbU2lnk",
        "outputId": "8e107887-5c36-41e4-f3dd-8a04fce6d0ae"
      },
      "outputs": [
        {
          "data": {
            "image/png": "[encoded data removed]",
            "text/plain": [
              "<Figure size 432x288 with 1 Axes>"
            ]
          },
          "metadata": {},
          "output_type": "display_data"
        }
      ],
      "source": [
        "\n",
        "plt.xticks(rotation=0)\n",
        "plt.ylabel('Frequency')\n",
        "sns.countplot(x='Study Year',hue=\"Depression\",palette=\"bwr\",data=df)\n",
        "plt.title('Study Year and Depression')\n",
        "plt.legend([\"Have Depression\",\"Haven't Depression\"])\n",
        "plt.show()"
      ]
    },
    {
      "cell_type": "markdown",
      "source": [
        "**Marital Status Distribution with Depression**"
      ],
      "metadata": {
        "id": "St74kgmxi2xb"
      }
    },
    {
      "cell_type": "code",
      "execution_count": null,
      "metadata": {
        "colab": {
          "base_uri": "https://localhost:8080/",
          "height": 295
        },
        "id": "AhHzXPMg4tLy",
        "outputId": "8d5227d9-8204-4cdf-b775-7b522c60d8d5"
      },
      "outputs": [
        {
          "data": {
            "image/png": "[encoded data removed]",
            "text/plain": [
              "<Figure size 432x288 with 1 Axes>"
            ]
          },
          "metadata": {},
          "output_type": "display_data"
        }
      ],
      "source": [
        "\n",
        "plt.xticks(rotation=0)\n",
        "plt.ylabel('Frequency')\n",
        "sns.countplot(x='Marital status',hue=\"Depression\",palette=\"bwr\",data=df1)\n",
        "plt.title('Marital status and Depression')\n",
        "plt.legend([\"Have Depression\",\"Haven't Depression\"])\n",
        "plt.show()"
      ]
    },
    {
      "cell_type": "code",
      "execution_count": null,
      "metadata": {
        "colab": {
          "base_uri": "https://localhost:8080/"
        },
        "id": "ViWZ8y8Y_W00",
        "outputId": "29a84a1d-dd0b-44a9-ca1c-bd602a3a8b12"
      },
      "outputs": [
        {
          "data": {
            "text/plain": [
              "0      1\n",
              "1      2\n",
              "2      1\n",
              "3      3\n",
              "4      4\n",
              "      ..\n",
              "96     1\n",
              "97     2\n",
              "98     3\n",
              "99     4\n",
              "100    2\n",
              "Name: Study Year, Length: 101, dtype: int64"
            ]
          },
          "execution_count": 486,
          "metadata": {},
          "output_type": "execute_result"
        }
      ],
      "source": [
        "df1['Study Year'] = df1['Study Year'].str.lower()\n",
        "df1['Study Year'] = df1['Study Year'].str.strip('year')\n",
        "df1['Study Year'].astype(int)"
      ]
    },
    {
      "cell_type": "code",
      "execution_count": null,
      "metadata": {
        "id": "IAtk-B8q_tw6"
      },
      "outputs": [],
      "source": []
    },
    {
      "cell_type": "code",
      "execution_count": null,
      "metadata": {
        "colab": {
          "base_uri": "https://localhost:8080/"
        },
        "id": "A76JfO1T_t-4",
        "outputId": "dffa3d2a-1bdd-48d8-da15-75b3d2aa02a2"
      },
      "outputs": [
        {
          "data": {
            "text/plain": [
              "array(['3.00 - 3.49', '3.50 - 4.00', '2.50 - 2.99', '2.00 - 2.49',\n",
              "       '0 - 1.99'], dtype=object)"
            ]
          },
          "execution_count": 487,
          "metadata": {},
          "output_type": "execute_result"
        }
      ],
      "source": [
        "#Replacing the Values in CGPA, which have extra values unusable\n",
        "df.replace({'3.50 - 4.00 ':'3.50 - 4.00'},regex=True,inplace=True)\n",
        "df['CGPA'].unique()\n"
      ]
    },
    {
      "cell_type": "code",
      "execution_count": null,
      "metadata": {
        "id": "pyQAZSmu_y_b"
      },
      "outputs": [],
      "source": [
        "feature =['Age','Gender','Panic Attack','Depression','Anxiety','CGPA','Treatment','Marital status']"
      ]
    },
    {
      "cell_type": "code",
      "execution_count": null,
      "metadata": {
        "colab": {
          "base_uri": "https://localhost:8080/"
        },
        "id": "dsskRyZPAAXP",
        "outputId": "6c5b466b-24fc-4c0a-d21e-871a11575793"
      },
      "outputs": [
        {
          "data": {
            "text/plain": [
              "[(0, 'Age'),\n",
              " (1, 'Gender'),\n",
              " (2, 'Panic Attack'),\n",
              " (3, 'Depression'),\n",
              " (4, 'Anxiety'),\n",
              " (5, 'CGPA'),\n",
              " (6, 'Treatment'),\n",
              " (7, 'Marital status')]"
            ]
          },
          "execution_count": 489,
          "metadata": {},
          "output_type": "execute_result"
        }
      ],
      "source": [
        "list(enumerate(feature))"
      ]
    },
    {
      "cell_type": "markdown",
      "source": [
        "**Distribution of the Dataset with Depression**"
      ],
      "metadata": {
        "id": "I-SmoLTKjBAA"
      }
    },
    {
      "cell_type": "code",
      "execution_count": null,
      "metadata": {
        "colab": {
          "base_uri": "https://localhost:8080/",
          "height": 1000
        },
        "id": "4BdM-8DvAD5H",
        "outputId": "61bd36f0-a483-4428-b474-b8c669d7710e"
      },
      "outputs": [
        {
          "name": "stderr",
          "output_type": "stream",
          "text": [
            "/usr/local/lib/python3.7/dist-packages/seaborn/_decorators.py:43: FutureWarning: Pass the following variable as a keyword arg: x. From version 0.12, the only valid positional argument will be `data`, and passing other arguments without an explicit keyword will result in an error or misinterpretation.\n",
            "  FutureWarning\n",
            "/usr/local/lib/python3.7/dist-packages/seaborn/_decorators.py:43: FutureWarning: Pass the following variable as a keyword arg: x. From version 0.12, the only valid positional argument will be `data`, and passing other arguments without an explicit keyword will result in an error or misinterpretation.\n",
            "  FutureWarning\n",
            "/usr/local/lib/python3.7/dist-packages/seaborn/_decorators.py:43: FutureWarning: Pass the following variable as a keyword arg: x. From version 0.12, the only valid positional argument will be `data`, and passing other arguments without an explicit keyword will result in an error or misinterpretation.\n",
            "  FutureWarning\n",
            "/usr/local/lib/python3.7/dist-packages/seaborn/_decorators.py:43: FutureWarning: Pass the following variable as a keyword arg: x. From version 0.12, the only valid positional argument will be `data`, and passing other arguments without an explicit keyword will result in an error or misinterpretation.\n",
            "  FutureWarning\n",
            "/usr/local/lib/python3.7/dist-packages/seaborn/_decorators.py:43: FutureWarning: Pass the following variable as a keyword arg: x. From version 0.12, the only valid positional argument will be `data`, and passing other arguments without an explicit keyword will result in an error or misinterpretation.\n",
            "  FutureWarning\n",
            "/usr/local/lib/python3.7/dist-packages/seaborn/_decorators.py:43: FutureWarning: Pass the following variable as a keyword arg: x. From version 0.12, the only valid positional argument will be `data`, and passing other arguments without an explicit keyword will result in an error or misinterpretation.\n",
            "  FutureWarning\n",
            "/usr/local/lib/python3.7/dist-packages/seaborn/_decorators.py:43: FutureWarning: Pass the following variable as a keyword arg: x. From version 0.12, the only valid positional argument will be `data`, and passing other arguments without an explicit keyword will result in an error or misinterpretation.\n",
            "  FutureWarning\n",
            "/usr/local/lib/python3.7/dist-packages/seaborn/_decorators.py:43: FutureWarning: Pass the following variable as a keyword arg: x. From version 0.12, the only valid positional argument will be `data`, and passing other arguments without an explicit keyword will result in an error or misinterpretation.\n",
            "  FutureWarning\n"
          ]
        },
        {
          "data": {
            "image/png": "[encoded data removed]",
            "text/plain": [
              "<Figure size 1440x2520 with 8 Axes>"
            ]
          },
          "metadata": {},
          "output_type": "display_data"
        }
      ],
      "source": [
        "plt.figure(figsize = (20, 35))\n",
        "for i in enumerate(feature):\n",
        "    plt.subplot(6, 3,i[0]+1)\n",
        "    sns.countplot(i[1], hue = 'Depression', palette=\"bwr\",data = df1)"
      ]
    },
    {
      "cell_type": "markdown",
      "source": [
        "**Correlation Graph**"
      ],
      "metadata": {
        "id": "M6IW9MCojHgP"
      }
    },
    {
      "cell_type": "code",
      "execution_count": null,
      "metadata": {
        "id": "HuQIMRVEA0C8"
      },
      "outputs": [],
      "source": [
        "cm=df.corr()"
      ]
    },
    {
      "cell_type": "code",
      "execution_count": null,
      "metadata": {
        "colab": {
          "base_uri": "https://localhost:8080/",
          "height": 268
        },
        "id": "qlfoEV1rA1jU",
        "outputId": "ec66030a-fdfe-4cd6-abdf-76911078e29a"
      },
      "outputs": [
        {
          "data": {
            "image/png": "[encoded data removed]",
            "text/plain": [
              "<PIL.PngImagePlugin.PngImageFile image mode=RGBA size=704x251 at 0x7F0993709DD0>"
            ]
          },
          "metadata": {},
          "output_type": "display_data"
        }
      ],
      "source": [
        "from graphviz import Graph\n",
        "from PIL import Image\n",
        "\n",
        "def draw_graph(cm, threshold):\n",
        "    edges = np.where(np.abs(cm) > threshold)\n",
        "    edges = [[cm.index[i], cm.index[j]] for i, j in zip(edges[0], edges[1]) if i > j]\n",
        "\n",
        "    g = Graph(format='png')\n",
        "    for k in range(cm.shape[0]):\n",
        "        g.node(cm.index[k])\n",
        "\n",
        "    for i, j in edges:\n",
        "        g.edge(j, i)\n",
        "\n",
        "    g.render(filename='../test', format='png', cleanup=True, directory=None)\n",
        "    display(Image.open('../test.png'))\n",
        "\n",
        "threshold = 0.3\n",
        "draw_graph(cm, threshold)"
      ]
    },
    {
      "cell_type": "markdown",
      "source": [
        "**Age vs Depression**"
      ],
      "metadata": {
        "id": "-edE4CMkjXH4"
      }
    },
    {
      "cell_type": "code",
      "execution_count": null,
      "metadata": {
        "colab": {
          "base_uri": "https://localhost:8080/",
          "height": 277
        },
        "id": "UvjikZxUBcCK",
        "outputId": "18d96ebb-1a59-4b8f-9ebc-cc559db4cd7e"
      },
      "outputs": [
        {
          "data": {
            "image/png": "[encoded data removed]",
            "text/plain": [
              "<Figure size 432x288 with 1 Axes>"
            ]
          },
          "metadata": {},
          "output_type": "display_data"
        }
      ],
      "source": [
        "import matplotlib.pyplot as plt\n",
        "from matplotlib.ticker import StrMethodFormatter\n",
        "x=df.groupby('Depression')['Age'].mean().sort_values()\n",
        "x.plot(kind='bar',fontsize=12)\n",
        "plt.show()"
      ]
    },
    {
      "cell_type": "markdown",
      "source": [
        "**Time series plot**"
      ],
      "metadata": {
        "id": "FI9O3jEUjb84"
      }
    },
    {
      "cell_type": "code",
      "execution_count": null,
      "metadata": {
        "colab": {
          "base_uri": "https://localhost:8080/",
          "height": 404
        },
        "id": "j6zIdKIjCJth",
        "outputId": "f4a4b645-ddc7-4e32-e70e-fce35cb8f02c"
      },
      "outputs": [
        {
          "output_type": "display_data",
          "data": {
            "text/plain": [
              "<Figure size 1152x432 with 1 Axes>"
            ],
            "image/png": "[encoded data removed]"
          },
          "metadata": {
            "needs_background": "light"
          }
        }
      ],
      "source": [
        "plt.figure(figsize=(16, 6))\n",
        "plt.title('Time series plot of Treatment vs Age')\n",
        "ax = sns.lineplot(x=\"Age\", y=\"Treatment\",ci=10,palette=\"bwr\",data=df)"
      ]
    },
    {
      "cell_type": "code",
      "execution_count": null,
      "metadata": {
        "colab": {
          "base_uri": "https://localhost:8080/",
          "height": 404
        },
        "id": "DpFtiHHMCdqw",
        "outputId": "641e7676-be2b-4247-b12b-aa6ee7c4f93e"
      },
      "outputs": [
        {
          "output_type": "display_data",
          "data": {
            "text/plain": [
              "<Figure size 1152x432 with 1 Axes>"
            ],
            "image/png": "[encoded data removed]"
          },
          "metadata": {
            "needs_background": "light"
          }
        }
      ],
      "source": [
        "plt.figure(figsize=(16, 6))\n",
        "plt.title('Time series plot of Treatment vs Study Year ')\n",
        "ax = sns.lineplot(x=\"Study Year\", y=\"Treatment\",ci=10,palette=\"bwr\", data=df)"
      ]
    },
    {
      "cell_type": "code",
      "execution_count": null,
      "metadata": {
        "colab": {
          "base_uri": "https://localhost:8080/",
          "height": 404
        },
        "id": "rpEnk56bCofb",
        "outputId": "e7592a07-256b-4c10-9782-44456d9db55c"
      },
      "outputs": [
        {
          "output_type": "display_data",
          "data": {
            "text/plain": [
              "<Figure size 1152x432 with 1 Axes>"
            ],
            "image/png": "[encoded data removed]"
          },
          "metadata": {
            "needs_background": "light"
          }
        }
      ],
      "source": [
        "plt.figure(figsize=(16, 6))\n",
        "plt.title('Time series plot of Treatment & DEPRESSION')\n",
        "ax = sns.lineplot(x=\"Treatment\", y=\"Depression\",ci=10,palette=\"bwr\", label=\"Depression\",data=df)"
      ]
    },
    {
      "cell_type": "markdown",
      "source": [
        "**Depression,Age & Gender Bar plot**"
      ],
      "metadata": {
        "id": "LqZQfp3Bj1F_"
      }
    },
    {
      "cell_type": "code",
      "execution_count": null,
      "metadata": {
        "colab": {
          "base_uri": "https://localhost:8080/",
          "height": 386
        },
        "id": "eSZ1gl9MEYez",
        "outputId": "29fac55a-40d9-4a8d-bd20-adba3884bdb7"
      },
      "outputs": [
        {
          "data": {
            "text/plain": [
              "<seaborn.axisgrid.FacetGrid at 0x7f0999b71890>"
            ]
          },
          "execution_count": 252,
          "metadata": {},
          "output_type": "execute_result"
        },
        {
          "data": {
            "image/png": "[encoded data removed]",
            "text/plain": [
              "<Figure size 432.125x360 with 1 Axes>"
            ]
          },
          "metadata": {},
          "output_type": "display_data"
        }
      ],
      "source": [
        "sns.catplot(x=\"Depression\", y=\"Age\", hue=\"Gender\", palette=\"bwr\",kind=\"bar\", data=df1)"
      ]
    },
    {
      "cell_type": "markdown",
      "source": [
        "**Marital Status Distribution with Depression**"
      ],
      "metadata": {
        "id": "so9XTs3Ij-QK"
      }
    },
    {
      "cell_type": "code",
      "execution_count": null,
      "metadata": {
        "colab": {
          "base_uri": "https://localhost:8080/",
          "height": 386
        },
        "id": "DJn5_YzhHCbE",
        "outputId": "b665b905-b300-4c3d-92b5-9eb47dca2a3d"
      },
      "outputs": [
        {
          "data": {
            "text/plain": [
              "<seaborn.axisgrid.FacetGrid at 0x7f09975ea0d0>"
            ]
          },
          "execution_count": 255,
          "metadata": {},
          "output_type": "execute_result"
        },
        {
          "data": {
            "image/png": "[encoded data removed]",
            "text/plain": [
              "<Figure size 423.875x360 with 1 Axes>"
            ]
          },
          "metadata": {},
          "output_type": "display_data"
        }
      ],
      "source": [
        "from seaborn.palettes import color_palette\n",
        "sns.displot(df1, x=\"Marital status\", hue=\"Depression\", palette=\"husl\")"
      ]
    },
    {
      "cell_type": "markdown",
      "source": [
        "**Depression distribution with Treatment**"
      ],
      "metadata": {
        "id": "yU1qh2dWkHav"
      }
    },
    {
      "cell_type": "code",
      "execution_count": null,
      "metadata": {
        "colab": {
          "base_uri": "https://localhost:8080/",
          "height": 386
        },
        "id": "o1GrepgBHfMM",
        "outputId": "9c3912b1-1210-44be-d9b2-f6eb11a18e15"
      },
      "outputs": [
        {
          "data": {
            "text/plain": [
              "<seaborn.axisgrid.FacetGrid at 0x7f09997b6e50>"
            ]
          },
          "execution_count": 270,
          "metadata": {},
          "output_type": "execute_result"
        },
        {
          "data": {
            "image/png": "[encoded data removed]",
            "text/plain": [
              "<Figure size 418.5x360 with 1 Axes>"
            ]
          },
          "metadata": {},
          "output_type": "display_data"
        }
      ],
      "source": [
        "from seaborn.palettes import color_palette\n",
        "sns.displot(df1, x=\"Depression\", hue=\"Treatment\",palette=\"husl\")"
      ]
    },
    {
      "cell_type": "markdown",
      "source": [
        "**Age distribution with Treatment**"
      ],
      "metadata": {
        "id": "9Iz-SN8ikO7h"
      }
    },
    {
      "cell_type": "code",
      "execution_count": null,
      "metadata": {
        "colab": {
          "base_uri": "https://localhost:8080/",
          "height": 386
        },
        "id": "bxQNwUHOIICt",
        "outputId": "bc33e678-89a6-487c-da18-bd00fea0fff9"
      },
      "outputs": [
        {
          "data": {
            "text/plain": [
              "<seaborn.axisgrid.FacetGrid at 0x7f0994889f50>"
            ]
          },
          "execution_count": 271,
          "metadata": {},
          "output_type": "execute_result"
        },
        {
          "data": {
            "image/png": "[encoded data removed]",
            "text/plain": [
              "<Figure size 418.5x360 with 1 Axes>"
            ]
          },
          "metadata": {},
          "output_type": "display_data"
        }
      ],
      "source": [
        "from seaborn.palettes import color_palette\n",
        "sns.displot(df1, x=\"Age\", hue=\"Treatment\",palette=\"husl\")"
      ]
    },
    {
      "cell_type": "code",
      "execution_count": null,
      "metadata": {
        "colab": {
          "base_uri": "https://localhost:8080/",
          "height": 351
        },
        "id": "oYwuSCPXIZGK",
        "outputId": "06d7eea9-bc63-466a-e4ae-a663e0e5d41a"
      },
      "outputs": [
        {
          "name": "stderr",
          "output_type": "stream",
          "text": [
            "/usr/local/lib/python3.7/dist-packages/seaborn/distributions.py:2619: FutureWarning: `distplot` is a deprecated function and will be removed in a future version. Please adapt your code to use either `displot` (a figure-level function with similar flexibility) or `histplot` (an axes-level function for histograms).\n",
            "  warnings.warn(msg, FutureWarning)\n"
          ]
        },
        {
          "data": {
            "text/plain": [
              "<matplotlib.axes._subplots.AxesSubplot at 0x7f0994816dd0>"
            ]
          },
          "execution_count": 272,
          "metadata": {},
          "output_type": "execute_result"
        },
        {
          "data": {
            "image/png": "[encoded data removed]",
            "text/plain": [
              "<Figure size 432x288 with 1 Axes>"
            ]
          },
          "metadata": {},
          "output_type": "display_data"
        }
      ],
      "source": [
        "sns.distplot(df1['Age'])"
      ]
    },
    {
      "cell_type": "code",
      "execution_count": null,
      "metadata": {
        "colab": {
          "base_uri": "https://localhost:8080/",
          "height": 351
        },
        "id": "zb7X5Mg4JEyl",
        "outputId": "59fc063f-fe9b-4eb3-f776-d7cbb2c29afb"
      },
      "outputs": [
        {
          "name": "stderr",
          "output_type": "stream",
          "text": [
            "/usr/local/lib/python3.7/dist-packages/seaborn/distributions.py:2619: FutureWarning: `distplot` is a deprecated function and will be removed in a future version. Please adapt your code to use either `displot` (a figure-level function with similar flexibility) or `histplot` (an axes-level function for histograms).\n",
            "  warnings.warn(msg, FutureWarning)\n"
          ]
        },
        {
          "data": {
            "text/plain": [
              "<matplotlib.axes._subplots.AxesSubplot at 0x7f0994536d10>"
            ]
          },
          "execution_count": 282,
          "metadata": {},
          "output_type": "execute_result"
        },
        {
          "data": {
            "image/png": "[encoded data removed]",
            "text/plain": [
              "<Figure size 432x288 with 1 Axes>"
            ]
          },
          "metadata": {},
          "output_type": "display_data"
        }
      ],
      "source": [
        "sns.distplot(df['Depression'])"
      ]
    },
    {
      "cell_type": "markdown",
      "source": [
        "**Barplot**"
      ],
      "metadata": {
        "id": "Mv9W-sbCkawC"
      }
    },
    {
      "cell_type": "code",
      "execution_count": null,
      "metadata": {
        "colab": {
          "base_uri": "https://localhost:8080/",
          "height": 386
        },
        "id": "Qhumux5uLCzo",
        "outputId": "2a85f533-b320-451f-ca73-d2b8b66af4cd"
      },
      "outputs": [
        {
          "data": {
            "text/plain": [
              "<seaborn.axisgrid.FacetGrid at 0x7f0994257550>"
            ]
          },
          "execution_count": 291,
          "metadata": {},
          "output_type": "execute_result"
        },
        {
          "data": {
            "image/png": "[encoded data removed]",
            "text/plain": [
              "<Figure size 436.5x360 with 1 Axes>"
            ]
          },
          "metadata": {},
          "output_type": "display_data"
        }
      ],
      "source": [
        "sns.catplot(x=\"Depression\", y=\"Age\", hue=\"Marital status\", palette=\"bwr\",kind=\"bar\", data=df1)"
      ]
    },
    {
      "cell_type": "code",
      "execution_count": null,
      "metadata": {
        "colab": {
          "base_uri": "https://localhost:8080/",
          "height": 386
        },
        "id": "sefYI6AILzDO",
        "outputId": "721c9ec2-af07-4488-d11a-5a3b9a2ec1f3"
      },
      "outputs": [
        {
          "data": {
            "text/plain": [
              "<seaborn.axisgrid.FacetGrid at 0x7f0994127290>"
            ]
          },
          "execution_count": 296,
          "metadata": {},
          "output_type": "execute_result"
        },
        {
          "data": {
            "image/png": "[encoded data removed]",
            "text/plain": [
              "<Figure size 418.5x360 with 1 Axes>"
            ]
          },
          "metadata": {},
          "output_type": "display_data"
        }
      ],
      "source": [
        "sns.catplot(x=\"Depression\",y=\"Age\", hue=\"Treatment\", palette=\"bwr\",kind=\"bar\", data=df1)"
      ]
    },
    {
      "cell_type": "code",
      "execution_count": null,
      "metadata": {
        "colab": {
          "base_uri": "https://localhost:8080/",
          "height": 1000
        },
        "id": "hMMNtIuMNAD5",
        "outputId": "af36862a-e99d-4e4e-80fa-ff2daebd561d"
      },
      "outputs": [
        {
          "data": {
            "image/png": "[encoded data removed]",
            "text/plain": [
              "<Figure size 1260x1260 with 56 Axes>"
            ]
          },
          "metadata": {},
          "output_type": "display_data"
        }
      ],
      "source": [
        "sns.pairplot(df);"
      ]
    },
    {
      "cell_type": "markdown",
      "source": [
        "**Jointplot**"
      ],
      "metadata": {
        "id": "OXtVbALRkd5g"
      }
    },
    {
      "cell_type": "code",
      "execution_count": null,
      "metadata": {
        "colab": {
          "base_uri": "https://localhost:8080/",
          "height": 441
        },
        "id": "XfqYLBx5NUyK",
        "outputId": "a1c02878-a816-4d30-8542-a860d0e752da"
      },
      "outputs": [
        {
          "output_type": "display_data",
          "data": {
            "text/plain": [
              "<Figure size 432x432 with 3 Axes>"
            ],
            "image/png": "[encoded data removed]"
          },
          "metadata": {
            "needs_background": "light"
          }
        }
      ],
      "source": [
        "sns.jointplot(x=\"Treatment\", y=\"Depression\", data=df, kind=\"reg\");"
      ]
    },
    {
      "cell_type": "code",
      "source": [
        "sns.jointplot(x=\"Treatment\", y=\"Age\", data=df, kind=\"reg\");"
      ],
      "metadata": {
        "colab": {
          "base_uri": "https://localhost:8080/",
          "height": 441
        },
        "id": "wi63jAsA4-_c",
        "outputId": "ac7fdc03-b5c8-43c1-8f35-e5b4f73c01d2"
      },
      "execution_count": null,
      "outputs": [
        {
          "output_type": "display_data",
          "data": {
            "text/plain": [
              "<Figure size 432x432 with 3 Axes>"
            ],
            "image/png": "[encoded data removed]"
          },
          "metadata": {
            "needs_background": "light"
          }
        }
      ]
    },
    {
      "cell_type": "code",
      "execution_count": null,
      "metadata": {
        "colab": {
          "base_uri": "https://localhost:8080/",
          "height": 441
        },
        "id": "lyuq1ZtHN7CF",
        "outputId": "6f92f524-d730-4943-e3ca-d2413410a11c"
      },
      "outputs": [
        {
          "output_type": "display_data",
          "data": {
            "text/plain": [
              "<Figure size 432x432 with 3 Axes>"
            ],
            "image/png": "[encoded data removed]"
          },
          "metadata": {
            "needs_background": "light"
          }
        }
      ],
      "source": [
        "sns.jointplot(x=\"Treatment\", y=\"Marital status\", data=df, kind=\"reg\");"
      ]
    },
    {
      "cell_type": "markdown",
      "source": [
        "**Countplot**"
      ],
      "metadata": {
        "id": "3SMjgD9ukkfh"
      }
    },
    {
      "cell_type": "code",
      "execution_count": null,
      "metadata": {
        "colab": {
          "base_uri": "https://localhost:8080/",
          "height": 386
        },
        "id": "VOxUI7mCO0Pj",
        "outputId": "7246677c-5bdb-414a-876b-e0c3a4ffca8b"
      },
      "outputs": [
        {
          "data": {
            "text/plain": [
              "<seaborn.axisgrid.FacetGrid at 0x7f099361fe10>"
            ]
          },
          "execution_count": 425,
          "metadata": {},
          "output_type": "execute_result"
        },
        {
          "data": {
            "image/png": "[encoded data removed]",
            "text/plain": [
              "<Figure size 360x360 with 1 Axes>"
            ]
          },
          "metadata": {},
          "output_type": "display_data"
        }
      ],
      "source": [
        "sns.catplot(x='Gender', \n",
        "           \n",
        "            kind='count', \n",
        "            palette=\"bwr\", \n",
        "            edgecolor=\".6\",\n",
        "            data=df1)"
      ]
    },
    {
      "cell_type": "code",
      "execution_count": null,
      "metadata": {
        "colab": {
          "base_uri": "https://localhost:8080/"
        },
        "id": "Xw4DdvSFP-YP",
        "outputId": "5b457636-20dd-44f4-b055-9fcd4a80a7f3"
      },
      "outputs": [
        {
          "data": {
            "text/plain": [
              "No     85\n",
              "Yes    16\n",
              "Name: Marital status, dtype: int64"
            ]
          },
          "execution_count": 343,
          "metadata": {},
          "output_type": "execute_result"
        }
      ],
      "source": [
        "df1['Marital status'].value_counts()"
      ]
    },
    {
      "cell_type": "code",
      "execution_count": null,
      "metadata": {
        "colab": {
          "base_uri": "https://localhost:8080/",
          "height": 279
        },
        "id": "VpCOdpssRvrh",
        "outputId": "653d3e18-2b18-44a4-bff9-65cfb6270fbc"
      },
      "outputs": [
        {
          "data": {
            "image/png": "[encoded data removed]",
            "text/plain": [
              "<Figure size 432x288 with 1 Axes>"
            ]
          },
          "metadata": {},
          "output_type": "display_data"
        }
      ],
      "source": [
        "\n",
        "plt.xticks(rotation=0)\n",
        "plt.ylabel('Frequency')\n",
        "sns.countplot(x=\"Depression\",palette=\"bwr\",data=df1,)\n",
        "plt.show()"
      ]
    },
    {
      "cell_type": "code",
      "execution_count": null,
      "metadata": {
        "colab": {
          "base_uri": "https://localhost:8080/",
          "height": 279
        },
        "id": "SCevRZlCR8aX",
        "outputId": "dd8d0a02-ec4d-4dee-d114-ea6830fd4478"
      },
      "outputs": [
        {
          "data": {
            "image/png": "[encoded data removed]",
            "text/plain": [
              "<Figure size 576x288 with 1 Axes>"
            ]
          },
          "metadata": {},
          "output_type": "display_data"
        }
      ],
      "source": [
        "plt.figure(figsize=(8,4))\n",
        "plt.xticks(rotation=0)\n",
        "plt.ylabel('Frequency')\n",
        "sns.countplot(x=\"Marital status\",hue=\"Depression\",palette=\"bwr\",data=df1,)\n",
        "plt.show()"
      ]
    },
    {
      "cell_type": "markdown",
      "source": [
        "**Depression,Age & Treatment Boxplot**"
      ],
      "metadata": {
        "id": "ohFL6zPRkuaH"
      }
    },
    {
      "cell_type": "code",
      "execution_count": null,
      "metadata": {
        "colab": {
          "base_uri": "https://localhost:8080/",
          "height": 1000
        },
        "id": "pXlnUBxpT_RS",
        "outputId": "fcf2dc8e-d4e5-44e9-b014-1a91f7fe61db"
      },
      "outputs": [
        {
          "output_type": "display_data",
          "data": {
            "text/plain": [
              "<Figure size 1440x1440 with 1 Axes>"
            ],
            "image/png": "[encoded data removed]"
          },
          "metadata": {
            "needs_background": "light"
          }
        }
      ],
      "source": [
        "plt.figure(figsize=(20,20))\n",
        "ax = sns.boxplot(x=\"Depression\",y=\"Age\",hue=\"Treatment\",palette=\"bwr\", data=df1)"
      ]
    }
  ],
  "metadata": {
    "colab": {
      "provenance": [],
      "include_colab_link": true
    },
    "kernelspec": {
      "display_name": "Python 3",
      "name": "python3"
    },
    "language_info": {
      "name": "python"
    }
  },
  "nbformat": 4,
  "nbformat_minor": 0
}